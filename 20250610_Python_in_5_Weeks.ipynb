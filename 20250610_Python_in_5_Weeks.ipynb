{
  "nbformat": 4,
  "nbformat_minor": 0,
  "metadata": {
    "colab": {
      "provenance": [],
      "authorship_tag": "ABX9TyPlLFkIe4DEh1B12cIU8R0l",
      "include_colab_link": true
    },
    "kernelspec": {
      "name": "python3",
      "display_name": "Python 3"
    },
    "language_info": {
      "name": "python"
    }
  },
  "cells": [
    {
      "cell_type": "markdown",
      "metadata": {
        "id": "view-in-github",
        "colab_type": "text"
      },
      "source": [
        "<a href=\"https://colab.research.google.com/github/matt-10ant/oreilly_python_in_5_weeks/blob/main/20250610_Python_in_5_Weeks.ipynb\" target=\"_parent\"><img src=\"https://colab.research.google.com/assets/colab-badge.svg\" alt=\"Open In Colab\"/></a>"
      ]
    },
    {
      "cell_type": "code",
      "execution_count": null,
      "metadata": {
        "id": "iyWhhOVNI5Z1"
      },
      "outputs": [],
      "source": [
        "# Agenda, day 2: Loops, lists, and tuples\n",
        "# Q&A\n",
        "# Loops\n",
        "# for loops\n",
        "# How they work\n",
        "# Controlling the loops\n",
        "# The index (or the lack thereof)\n",
        "# while loops\n",
        "# Lists\n",
        "# How are they similar to (and different from) strings?\n",
        "# Creating, retrieving from lists\n",
        "# Lists are mutable, and what that means\n",
        "# Turning strings into lists, and vice versa\n",
        "# str.split -- which returns a list of strings based on a string\n",
        "# str.join -- which returns a string based on a list of strings\n",
        "# Tuples\n",
        "# How this fits into our picture with strings and lists\n",
        "# Creating and working with tuples\n",
        "# Tuple unpacking"
      ]
    },
    {
      "cell_type": "code",
      "source": [
        "# Loops\n",
        "# One of the most important rules in all of programming is \"DRY\" -- \"don't repeat yourself!"
      ],
      "metadata": {
        "id": "0xXj3VVSmD4r"
      },
      "execution_count": 1,
      "outputs": []
    },
    {
      "cell_type": "code",
      "source": [
        "s = 'abcd'\n",
        "#I want to print every character in s\n",
        "print(s[0])\n",
        "print(s[1])\n",
        "print(s[2])\n",
        "print(s[3])"
      ],
      "metadata": {
        "colab": {
          "base_uri": "https://localhost:8080/"
        },
        "id": "KyagMHvdpXKD",
        "outputId": "18c36346-2510-48dc-e81c-eaee7433a4c7"
      },
      "execution_count": 2,
      "outputs": [
        {
          "output_type": "stream",
          "name": "stdout",
          "text": [
            "a\n",
            "b\n",
            "c\n",
            "d\n"
          ]
        }
      ]
    },
    {
      "cell_type": "code",
      "source": [
        "# Python has two types of loops:\n",
        "# for\n",
        "# while"
      ],
      "metadata": {
        "id": "Cxqdn4rOpoE7"
      },
      "execution_count": null,
      "outputs": []
    },
    {
      "cell_type": "code",
      "source": [
        "for one_character in 'abcd':\n",
        "  print(one_character)"
      ],
      "metadata": {
        "colab": {
          "base_uri": "https://localhost:8080/"
        },
        "id": "ckJ01fO_p40Q",
        "outputId": "84d7cdb4-405e-4b7d-cc6b-bfc98b7a9ba2"
      },
      "execution_count": 6,
      "outputs": [
        {
          "output_type": "stream",
          "name": "stdout",
          "text": [
            "a\n",
            "b\n",
            "c\n",
            "d\n"
          ]
        }
      ]
    },
    {
      "cell_type": "code",
      "source": [
        "# How does a for loop work?\n",
        "# for asks the value at the end of the line ('abcd') if it is iterable, meaning: Does it know how to behave inside of a for loop?\n",
        "# If not, then we get an error, a TypeError\n",
        "# for asks the value for its next thing.\n",
        "# If we're at the end, the loop ends and exits.\n",
        "# The value we got in step 2 is assigned to our loop variable -- in this case, one_character\n",
        "# The loop body, indented (starting on line 2) executes with that loop variable defined\n",
        "# Return to step 2\n",
        "# A few things to keep in mind:\n",
        "#\n",
        "# You will always see for VARIABLE in VALUE: at the start of a for loop\n",
        "# Following that line, you'll have an indented block -- which can be of any length -- at least one line, but no limit\n",
        "# Inside of the block, aka the loop body, you can have ANY CODE AT ALL, including if, print, input, or even another for loop. (\"Nested loop\")\n",
        "# The fact that we get one character at a time in our loop has NOTHING to do with the fact that I called the variable one_character. I can use any variable name I want, and it'll work the same way. However, we want to choose good variable names, that will make it easy to understand our program (by us and our colleagues).\n",
        "# If you have used languages like C before, then this kind of for loop looks super weird -- where is the index? Why aren't we counting the number of items we're iterating over? Answer: Python loops are higher level, and don't use an index."
      ],
      "metadata": {
        "id": "mJvdZb15rWxK"
      },
      "execution_count": null,
      "outputs": []
    },
    {
      "cell_type": "code",
      "source": [
        "# Exercise: Vowels, digits and others\n",
        "# 1. Define three variables -- 'vowels', 'digits', and 'others' -- all with a vlaue of 0\n",
        "# 2. Ask the user to enter some text.\n",
        "# 3. Go through that string, one character at a time.\n",
        "#   If the character is a vowel (a, e, i, o, u) then add 1 to vowels\n",
        "#   If the character is a digit (0-9), then add 1 to digits\n",
        "#   In all other cases, add 1 to others\n",
        "#   In the end, print each variable and its count.\n",
        "# Example:\n",
        "# Enter text: hello!! 123\n",
        "# vowels: 2\n",
        "# digits: 3\n",
        "# others: 6\n",
        "\n"
      ],
      "metadata": {
        "id": "By64d9jUrYi-"
      },
      "execution_count": null,
      "outputs": []
    },
    {
      "cell_type": "code",
      "source": [
        "vowels = 0\n",
        "digits = 0\n",
        "others = 0\n",
        "\n",
        "user_input = input('Enter some text: ')\n",
        "for character_type in user_input:\n",
        "  if character_type in 'aeiou':\n",
        "    vowels += 1\n",
        "  elif character_type in '0123456789':\n",
        "    digits += 1\n",
        "  else:\n",
        "    others += 1\n",
        "\n",
        "print('vowels: ' + str(vowels))\n",
        "print('digits: ' + str(digits))\n",
        "print('others: ' + str(others))"
      ],
      "metadata": {
        "colab": {
          "base_uri": "https://localhost:8080/"
        },
        "id": "AU4JVdtHr37i",
        "outputId": "a00ffe14-f789-49b1-b541-9334cd418b50"
      },
      "execution_count": 17,
      "outputs": [
        {
          "output_type": "stream",
          "name": "stdout",
          "text": [
            "Enter some text: hello!! 123\n",
            "vowels: 2\n",
            "digits: 3\n",
            "others: 6\n"
          ]
        }
      ]
    },
    {
      "cell_type": "code",
      "source": [
        "#Reuven's solution;\n",
        "\n",
        "vowels = 0\n",
        "digits = 0\n",
        "others = 0\n",
        "\n",
        "text = input('Enter some text: ').strip()\n",
        "for one_character in text:\n",
        "  if one_character in 'aeiou':\n",
        "    vowels += 1\n",
        "  elif one_character.isdigit():\n",
        "    digits += 1\n",
        "  else:\n",
        "    others += 1\n",
        "\n",
        "print(f'vowels = {vowels}')\n",
        "print(f'digits = {digits}')\n",
        "print(f'others = {others}')"
      ],
      "metadata": {
        "colab": {
          "base_uri": "https://localhost:8080/"
        },
        "id": "dbgyrFqVuCIL",
        "outputId": "86e3cf83-4a45-42df-f162-1d9c568c3a8e"
      },
      "execution_count": 15,
      "outputs": [
        {
          "output_type": "stream",
          "name": "stdout",
          "text": [
            "Enter some text: hello!! 123\n",
            "vowels = 2\n",
            "digits = 3\n",
            "others = 6\n"
          ]
        }
      ]
    },
    {
      "cell_type": "code",
      "source": [
        "# Indexes (or the lack of them)\n",
        "# In other programming languages, we usually run a for loop on integers, starting at 0, then going up to the maximum index of the string (for example). But in Python, we don't do that! There is no index. How can that be?\n",
        "\n",
        "# The answer is: Loops in Python are very dumb. They depend on the value we're iterating over to give us each subsequent value. We keep asking for the next value, and either we get it or the loop ends.\n",
        "\n",
        "# The for loop doesn't control what values we get with each iteration.\n",
        "# The for loop doesn't control (or even know) how many values we're going to get.\n",
        "# This means that we don't have, or need an index. We'll just keep getting new values.\n",
        "\n",
        "# But. Sometimes we want an index. Sometimes we want to print a number next to our values.\n",
        "\n",
        "# How can we do that?"
      ],
      "metadata": {
        "id": "spaL5krc0bu4"
      },
      "execution_count": null,
      "outputs": []
    },
    {
      "cell_type": "code",
      "source": [
        "# method #1: the manual approach\n",
        "\n",
        "index = 0\n",
        "\n",
        "for one_character in 'abcd':\n",
        "  print(f'{index}: {one_character}')\n",
        "  index += 1"
      ],
      "metadata": {
        "colab": {
          "base_uri": "https://localhost:8080/"
        },
        "id": "k1gbMeO41MrQ",
        "outputId": "92e7802d-73c2-4a98-a6b0-3f025bf7beaf"
      },
      "execution_count": 20,
      "outputs": [
        {
          "output_type": "stream",
          "name": "stdout",
          "text": [
            "0: a\n",
            "1: b\n",
            "2: c\n",
            "3: d\n"
          ]
        }
      ]
    },
    {
      "cell_type": "code",
      "source": [
        "for index, one_character in enumerate('abcd'):\n",
        "  print(f'{index}: {one_character}')"
      ],
      "metadata": {
        "colab": {
          "base_uri": "https://localhost:8080/"
        },
        "id": "SfUy-OnD1iaM",
        "outputId": "b0908d8c-96a9-4afe-e7b3-4b3579df6bde"
      },
      "execution_count": 22,
      "outputs": [
        {
          "output_type": "stream",
          "name": "stdout",
          "text": [
            "0: a\n",
            "1: b\n",
            "2: c\n",
            "3: d\n"
          ]
        }
      ]
    },
    {
      "cell_type": "code",
      "source": [
        "#Exercise: Powers of 10\n",
        "\n",
        "# As you might know, a decimal number can be broken into powers of 10. The number 2,468\n",
        "# (2 * 10**3) + (4 * 10**2) + (6 * 10**1) + (8 * 10**0))\n",
        "\n",
        "# 1. Ask the user to enter a number.  (It'll be a string)\n",
        "# 2. Iterate over that string, printing each digit in the above format\n",
        "\n",
        "#Hints:\n",
        "# 1. You'll want to use 'enumerate' for this (almost certainly)\n",
        "# 2. Remeber that you can get the length of the string with len(text)\n",
        "# 3. Don't forget that len(text) will return the number of characters, which is more than the highest index"
      ],
      "metadata": {
        "id": "jIcB-U2C14zI"
      },
      "execution_count": null,
      "outputs": []
    },
    {
      "cell_type": "code",
      "source": [
        "user_number = input('Enter a random number: ').strip()\n",
        "\n",
        "\n",
        "for index, one_character in enumerate(user_number):\n",
        "  power = len(user_number) - index - 1\n",
        "  print(f'{one_character} * 10**{power}')"
      ],
      "metadata": {
        "colab": {
          "base_uri": "https://localhost:8080/"
        },
        "id": "6UJNvSaT2vRF",
        "outputId": "94c7bd1c-ca55-4c95-cd39-32a5ceb43316"
      },
      "execution_count": 31,
      "outputs": [
        {
          "output_type": "stream",
          "name": "stdout",
          "text": [
            "Enter a random number: 2468\n",
            "2 * 10**3\n",
            "4 * 10**2\n",
            "6 * 10**1\n",
            "8 * 10**0\n"
          ]
        }
      ]
    },
    {
      "cell_type": "code",
      "source": [
        "# Reuven solution;\n",
        "text = input('Enter a number: ').strip()\n",
        "\n",
        "for index, one_character in enumerate(text):\n",
        "    power = len(text) - index - 1\n",
        "    print(f'{one_character} * 10**{power}')"
      ],
      "metadata": {
        "colab": {
          "base_uri": "https://localhost:8080/"
        },
        "id": "mBsBK1z46ETx",
        "outputId": "57b6bf55-e00d-4582-8ade-22f373f37dd9"
      },
      "execution_count": 32,
      "outputs": [
        {
          "output_type": "stream",
          "name": "stdout",
          "text": [
            "Enter a number: 2468\n",
            "2 * 10**3\n",
            "4 * 10**2\n",
            "6 * 10**1\n",
            "8 * 10**0\n"
          ]
        }
      ]
    },
    {
      "cell_type": "code",
      "source": [
        "# While Loops\n",
        "# So far, our loops have all been for loops. They go over a value (a string or a range) and give us, one at a time, the values. The idea of a for loop is that I want to get each value and do something with it.\n",
        "\n",
        "# But sometimes, I don't know how many iterations I want. Sometimes, I want to keep going until a certain condition is met. That might take a little time, or it might take a long time.\n",
        "\n",
        "# For such cases, we have a while loop. while is just like if:\n",
        "\n",
        "# It has a condition\n",
        "# If the condition is True, then the loop's block (body) runs\n",
        "# If the condition is False, then the loop's body does not run (and the loop exits)\n",
        "# But there is a big difference between if and while: After each run of the loop body, while then goes back to the condition, checks it again, and runs the body again if the condition is still True."
      ],
      "metadata": {
        "id": "4olvvl526WCE"
      },
      "execution_count": null,
      "outputs": []
    },
    {
      "cell_type": "code",
      "source": [
        "x = 5\n",
        "\n",
        "while x > 0:\n",
        "  print(x)\n",
        "  # the loop really should contain something that changes the situation, so that the loop might end\n",
        "  x = x-1"
      ],
      "metadata": {
        "colab": {
          "base_uri": "https://localhost:8080/"
        },
        "id": "cWMYmMdK6Xe9",
        "outputId": "936e01a7-2c91-4016-8cee-c7523f0c1b59"
      },
      "execution_count": 33,
      "outputs": [
        {
          "output_type": "stream",
          "name": "stdout",
          "text": [
            "5\n",
            "4\n",
            "3\n",
            "2\n",
            "1\n"
          ]
        }
      ]
    },
    {
      "cell_type": "code",
      "source": [
        "# When do we use a while loop and when do we use a for loop?\n",
        "# Use for when you know how many times you want to iterate, or if you want to iterate over a known set of values\n",
        "# Use while if you don't know how many times you'll want to iterate, but you do know when you'll want to stop\n",
        "# Let's assume that you go into your child's (messy) room, and you want it to be clean:\n",
        "\n",
        "# If you say: Pick each thing up off the floor and put it away, that's a for loop. You're giving an instruction that should be executed on each item\n",
        "# If you say: So long as there is something on the floor, pick something up and put it away. That is a while loop. You're indicating the condition under which the loop should end."
      ],
      "metadata": {
        "id": "FkJj3Yvl62H5"
      },
      "execution_count": null,
      "outputs": []
    },
    {
      "cell_type": "code",
      "source": [],
      "metadata": {
        "id": "SY-oLCwk66xd"
      },
      "execution_count": null,
      "outputs": []
    },
    {
      "cell_type": "code",
      "source": [
        "s = 'abcde'\n",
        "look_for = 'd'\n",
        "\n",
        "print('Start')\n",
        "for one_character in s:\n",
        "  if one_character == look_for:\n",
        "    break\n",
        "  print(one_character)\n",
        "print('End')"
      ],
      "metadata": {
        "colab": {
          "base_uri": "https://localhost:8080/"
        },
        "id": "rgRVEmFg7N1o",
        "outputId": "29a7ea4a-61a0-44d1-b802-f484857a1a4a"
      },
      "execution_count": 35,
      "outputs": [
        {
          "output_type": "stream",
          "name": "stdout",
          "text": [
            "Start\n",
            "a\n",
            "b\n",
            "c\n",
            "End\n"
          ]
        }
      ]
    },
    {
      "cell_type": "code",
      "source": [
        "s = 'abcde'\n",
        "look_for = 'd'\n",
        "\n",
        "print('Start')\n",
        "for one_character in s:\n",
        "  if one_character == look_for:\n",
        "    continue\n",
        "  print(one_character)\n",
        "print('End')"
      ],
      "metadata": {
        "colab": {
          "base_uri": "https://localhost:8080/"
        },
        "id": "2WqzIFoA7lP0",
        "outputId": "385fa521-481f-43a2-eda5-a807d7923fc2"
      },
      "execution_count": 36,
      "outputs": [
        {
          "output_type": "stream",
          "name": "stdout",
          "text": [
            "Start\n",
            "a\n",
            "b\n",
            "c\n",
            "e\n",
            "End\n"
          ]
        }
      ]
    },
    {
      "cell_type": "code",
      "source": [
        "while True: # this is an infinite loop\n",
        "  name = input('Enter your name: ').strip()\n",
        "\n",
        "  if name == '':\n",
        "    break\n",
        "  print(f'Hello, {name}!')"
      ],
      "metadata": {
        "colab": {
          "base_uri": "https://localhost:8080/"
        },
        "id": "0KjLfwIZ7xtI",
        "outputId": "4285fb5f-6d3b-4e45-ed8a-22c13676d647"
      },
      "execution_count": 37,
      "outputs": [
        {
          "name": "stdout",
          "output_type": "stream",
          "text": [
            "Enter your name: Matt\n",
            "Hello, Matt!\n",
            "Enter your name: Matt\n",
            "Hello, Matt!\n",
            "Enter your name: \n"
          ]
        }
      ]
    },
    {
      "cell_type": "code",
      "source": [
        "# Exercise: Sum to 100\n",
        "# 1. Set a variable, 'total', to 0\n",
        "# 2. Ask the user, repeatedley, to enter a numner.\n",
        "#   - If they enter a non-number then scold them\n",
        "# 3. Add the number to 'tota', and print the cirrent 'total'\n",
        "# 4. Keep asking until 'total' is > or = 100 at which point you can stop"
      ],
      "metadata": {
        "id": "fvFCmFhA8IlI"
      },
      "execution_count": null,
      "outputs": []
    },
    {
      "cell_type": "code",
      "source": [
        "total = 0\n",
        "\n",
        "while total < 100:\n",
        "  running_total = input('Enter a number: ').strip()\n",
        "  if not running_total.isdigit():\n",
        "    print(f'That is not a number, try again')\n",
        "    continue\n",
        "  total += int(running_total)\n",
        "  print(f'The total is: {total}')"
      ],
      "metadata": {
        "colab": {
          "base_uri": "https://localhost:8080/"
        },
        "id": "sG9Ujk478ouj",
        "outputId": "b24320ae-ca55-4f42-f224-d3a0c09c4fac"
      },
      "execution_count": 52,
      "outputs": [
        {
          "output_type": "stream",
          "name": "stdout",
          "text": [
            "Enter a number: blah\n",
            "That is not a number, try again\n",
            "Enter a number: 13\n",
            "The total is: 13\n",
            "Enter a number: 47\n",
            "The total is: 60\n",
            "Enter a number: 26\n",
            "The total is: 86\n",
            "Enter a number: 15\n",
            "The total is: 101\n"
          ]
        }
      ]
    },
    {
      "cell_type": "code",
      "source": [
        "# Reuven solution:\n",
        "\n",
        "total = 0\n",
        "\n",
        "while total < 100:\n",
        "    s = input('Enter a number: ').strip()\n",
        "\n",
        "    if s.isdigit():  # if s only contains digits, then we can turn it into an int...\n",
        "        n = int(s)\n",
        "\n",
        "        total += n\n",
        "        print(f'total is now {total}')\n",
        "    else:\n",
        "        print(f'{s} is not numeric; try again')"
      ],
      "metadata": {
        "id": "4Esj0VDZ_5F6"
      },
      "execution_count": null,
      "outputs": []
    },
    {
      "cell_type": "code",
      "source": [
        "# another way to approach it\n",
        "\n",
        "total = 0\n",
        "\n",
        "while total < 100:\n",
        "    s = input('Enter a number: ').strip()\n",
        "\n",
        "    if not s.isdigit():\n",
        "        print(f'{s} is not numeric; try again')\n",
        "        continue\n",
        "\n",
        "    n = int(s)\n",
        "\n",
        "    total += n\n",
        "    print(f'total is now {total}')"
      ],
      "metadata": {
        "id": "WQedfIiYBMkq"
      },
      "execution_count": null,
      "outputs": []
    },
    {
      "cell_type": "code",
      "source": [
        "# Lists\n",
        "# So far, we have talked about a number of data structures in Python:\n",
        "\n",
        "# int\n",
        "# float\n",
        "# string\n",
        "# But we're missing a \"container\" that we can put lots of things into. The main container used in Python is a list:\n",
        "\n",
        "# Other languages often call this kind of value an \"array.\" Technically, they are wrong and we are right; these are not arrays. But if you are coming from a language that calls them arrays, that's OK.\n",
        "# A list can contain any number of values of any types.\n",
        "# A list can contain values of different types; they don't have to be the same. However, it's traditional in Python for them all to be of the same type.\n",
        "# There is no minimum and no maximum number of elements in a list.\n",
        "# Both lists and strings are \"sequences,\" meaning that they are part of the same family. Which means that they work in very similar ways, much of the time."
      ],
      "metadata": {
        "id": "cVDZfivqCC_w"
      },
      "execution_count": null,
      "outputs": []
    },
    {
      "cell_type": "code",
      "source": [
        "mylist = [10, 20, 30, 40, 50, 60, 70]"
      ],
      "metadata": {
        "id": "IDQJ2aPYCYLl"
      },
      "execution_count": 60,
      "outputs": []
    },
    {
      "cell_type": "code",
      "source": [
        "mylist[0]"
      ],
      "metadata": {
        "colab": {
          "base_uri": "https://localhost:8080/"
        },
        "id": "ry4-l2UGDDA0",
        "outputId": "5381e132-1044-481f-eb52-3d24f96cedfc"
      },
      "execution_count": 54,
      "outputs": [
        {
          "output_type": "execute_result",
          "data": {
            "text/plain": [
              "10"
            ]
          },
          "metadata": {},
          "execution_count": 54
        }
      ]
    },
    {
      "cell_type": "code",
      "source": [
        "mylist[1]"
      ],
      "metadata": {
        "colab": {
          "base_uri": "https://localhost:8080/"
        },
        "id": "ITYifxMDDHlK",
        "outputId": "4a8bf15b-ef94-48ee-ac49-836c791ef3e0"
      },
      "execution_count": 55,
      "outputs": [
        {
          "output_type": "execute_result",
          "data": {
            "text/plain": [
              "20"
            ]
          },
          "metadata": {},
          "execution_count": 55
        }
      ]
    },
    {
      "cell_type": "code",
      "source": [
        "len(mylist)"
      ],
      "metadata": {
        "colab": {
          "base_uri": "https://localhost:8080/"
        },
        "id": "p6PXUMxVDOmr",
        "outputId": "4d8e8262-156a-42fa-fa72-8755850c1583"
      },
      "execution_count": 61,
      "outputs": [
        {
          "output_type": "execute_result",
          "data": {
            "text/plain": [
              "7"
            ]
          },
          "metadata": {},
          "execution_count": 61
        }
      ]
    },
    {
      "cell_type": "code",
      "source": [
        "mylist[2:5]"
      ],
      "metadata": {
        "colab": {
          "base_uri": "https://localhost:8080/"
        },
        "id": "UKhXbUYTDT6G",
        "outputId": "3e26747d-227c-437c-acf9-851e98bb438d"
      },
      "execution_count": 57,
      "outputs": [
        {
          "output_type": "execute_result",
          "data": {
            "text/plain": [
              "[30, 40, 50]"
            ]
          },
          "metadata": {},
          "execution_count": 57
        }
      ]
    },
    {
      "cell_type": "code",
      "source": [
        "40 in mylist"
      ],
      "metadata": {
        "colab": {
          "base_uri": "https://localhost:8080/"
        },
        "id": "bg1tI_FDDY5r",
        "outputId": "8e88c572-eb9d-4d2d-cd98-acc8b5a9b420"
      },
      "execution_count": 58,
      "outputs": [
        {
          "output_type": "execute_result",
          "data": {
            "text/plain": [
              "True"
            ]
          },
          "metadata": {},
          "execution_count": 58
        }
      ]
    },
    {
      "cell_type": "code",
      "source": [
        "'abcd' in mylist"
      ],
      "metadata": {
        "colab": {
          "base_uri": "https://localhost:8080/"
        },
        "id": "mLIxWg1yDcVr",
        "outputId": "91246b57-ad3f-4a15-c33b-c9f875b66208"
      },
      "execution_count": 59,
      "outputs": [
        {
          "output_type": "execute_result",
          "data": {
            "text/plain": [
              "False"
            ]
          },
          "metadata": {},
          "execution_count": 59
        }
      ]
    },
    {
      "cell_type": "code",
      "source": [
        "mylist = [10, 20, 30, 40, 50]\n",
        "\n",
        "mylist[2]"
      ],
      "metadata": {
        "colab": {
          "base_uri": "https://localhost:8080/"
        },
        "id": "I9rNkLrADg0H",
        "outputId": "6a2e13f1-70c0-4a88-f510-dee7a77dd108"
      },
      "execution_count": 62,
      "outputs": [
        {
          "output_type": "execute_result",
          "data": {
            "text/plain": [
              "30"
            ]
          },
          "metadata": {},
          "execution_count": 62
        }
      ]
    },
    {
      "cell_type": "code",
      "source": [
        "mylist[2] = 9999"
      ],
      "metadata": {
        "id": "8__T1xd0Dz9j"
      },
      "execution_count": 63,
      "outputs": []
    },
    {
      "cell_type": "code",
      "source": [
        "mylist"
      ],
      "metadata": {
        "colab": {
          "base_uri": "https://localhost:8080/"
        },
        "id": "HG_x7wa9D4e3",
        "outputId": "32f7df38-083d-4481-8d30-9ec5bdb87ea0"
      },
      "execution_count": 64,
      "outputs": [
        {
          "output_type": "execute_result",
          "data": {
            "text/plain": [
              "[10, 20, 9999, 40, 50]"
            ]
          },
          "metadata": {},
          "execution_count": 64
        }
      ]
    },
    {
      "cell_type": "code",
      "source": [
        "mylist.append(8888)\n",
        "mylist"
      ],
      "metadata": {
        "colab": {
          "base_uri": "https://localhost:8080/"
        },
        "id": "iFVSacYgEveA",
        "outputId": "5063e4cc-3268-49e4-a9da-f8c6c89d83f9"
      },
      "execution_count": 72,
      "outputs": [
        {
          "output_type": "execute_result",
          "data": {
            "text/plain": [
              "[10, 20, 9999, 40, 50, 8888]"
            ]
          },
          "metadata": {},
          "execution_count": 72
        }
      ]
    },
    {
      "cell_type": "code",
      "source": [
        "mylist.append(7777)\n",
        "mylist"
      ],
      "metadata": {
        "colab": {
          "base_uri": "https://localhost:8080/"
        },
        "id": "zGNL9gtOE01k",
        "outputId": "d3662d9b-9007-4020-8aff-190d3a775325"
      },
      "execution_count": 73,
      "outputs": [
        {
          "output_type": "execute_result",
          "data": {
            "text/plain": [
              "[10, 20, 9999, 40, 50, 8888, 7777]"
            ]
          },
          "metadata": {},
          "execution_count": 73
        }
      ]
    },
    {
      "cell_type": "code",
      "source": [
        "mylist.append([10, 20, 30])\n",
        "mylist"
      ],
      "metadata": {
        "colab": {
          "base_uri": "https://localhost:8080/"
        },
        "id": "guWD6WuHE8tn",
        "outputId": "91127923-69bc-450d-8ce3-3e4a5361b8b8"
      },
      "execution_count": 74,
      "outputs": [
        {
          "output_type": "execute_result",
          "data": {
            "text/plain": [
              "[10, 20, 9999, 40, 50, 8888, 7777, [10, 20, 30]]"
            ]
          },
          "metadata": {},
          "execution_count": 74
        }
      ]
    },
    {
      "cell_type": "code",
      "source": [
        "len(mylist)"
      ],
      "metadata": {
        "colab": {
          "base_uri": "https://localhost:8080/"
        },
        "id": "rZ1CJpj4HAY4",
        "outputId": "a2840827-735b-48b3-ea18-0aceb60469fc"
      },
      "execution_count": 79,
      "outputs": [
        {
          "output_type": "execute_result",
          "data": {
            "text/plain": [
              "8"
            ]
          },
          "metadata": {},
          "execution_count": 79
        }
      ]
    },
    {
      "cell_type": "code",
      "source": [
        "# can we add more than one thing at a time?\n",
        "# yes, there are a few ways. My favorite one is +=\n",
        "\n",
        "mylist += [22, 33, 44]    # += looks to its right, and runs a \"for\" loop, appending each value to the list\n",
        "mylist"
      ],
      "metadata": {
        "colab": {
          "base_uri": "https://localhost:8080/"
        },
        "id": "unXCmjRyHDEU",
        "outputId": "df701854-aba6-4deb-e331-14ff29e7f81a"
      },
      "execution_count": 80,
      "outputs": [
        {
          "output_type": "execute_result",
          "data": {
            "text/plain": [
              "[10, 20, 9999, 40, 50, 8888, 7777, [10, 20, 30], 22, 33, 44]"
            ]
          },
          "metadata": {},
          "execution_count": 80
        }
      ]
    },
    {
      "cell_type": "code",
      "source": [
        "mylist.append('hello')\n",
        "mylist"
      ],
      "metadata": {
        "colab": {
          "base_uri": "https://localhost:8080/"
        },
        "id": "lKUyUHT4HGoj",
        "outputId": "4a286e08-57b4-470a-e599-2af271de2316"
      },
      "execution_count": 81,
      "outputs": [
        {
          "output_type": "execute_result",
          "data": {
            "text/plain": [
              "[10, 20, 9999, 40, 50, 8888, 7777, [10, 20, 30], 22, 33, 44, 'hello']"
            ]
          },
          "metadata": {},
          "execution_count": 81
        }
      ]
    },
    {
      "cell_type": "code",
      "source": [
        "# what about removing items?\n",
        "# the easiest and most standard way is with the list.pop method\n",
        "# it removes + returns the value from the end\n",
        "\n",
        "mylist.pop()"
      ],
      "metadata": {
        "colab": {
          "base_uri": "https://localhost:8080/",
          "height": 36
        },
        "id": "i88mBjcWHJR-",
        "outputId": "6641b71d-34d3-4638-c328-2f19e35c44db"
      },
      "execution_count": 82,
      "outputs": [
        {
          "output_type": "execute_result",
          "data": {
            "text/plain": [
              "'hello'"
            ],
            "application/vnd.google.colaboratory.intrinsic+json": {
              "type": "string"
            }
          },
          "metadata": {},
          "execution_count": 82
        }
      ]
    },
    {
      "cell_type": "code",
      "source": [
        "mylist"
      ],
      "metadata": {
        "colab": {
          "base_uri": "https://localhost:8080/"
        },
        "id": "OktGkuQHHLV0",
        "outputId": "f63bbc4b-9bdf-46ad-e3f1-eaf67b2f742a"
      },
      "execution_count": 83,
      "outputs": [
        {
          "output_type": "execute_result",
          "data": {
            "text/plain": [
              "[10, 20, 9999, 40, 50, 8888, 7777, [10, 20, 30], 22, 33, 44]"
            ]
          },
          "metadata": {},
          "execution_count": 83
        }
      ]
    },
    {
      "cell_type": "code",
      "source": [
        "mylist.pop()"
      ],
      "metadata": {
        "colab": {
          "base_uri": "https://localhost:8080/"
        },
        "id": "si_nLiaUHOeh",
        "outputId": "a87f6764-933f-4e78-97a6-885540928d0b"
      },
      "execution_count": 84,
      "outputs": [
        {
          "output_type": "execute_result",
          "data": {
            "text/plain": [
              "44"
            ]
          },
          "metadata": {},
          "execution_count": 84
        }
      ]
    },
    {
      "cell_type": "code",
      "source": [
        "mylist"
      ],
      "metadata": {
        "colab": {
          "base_uri": "https://localhost:8080/"
        },
        "id": "3pEpAOIwHR8Z",
        "outputId": "9f96f91d-3dbf-492b-8938-893cf756cf7a"
      },
      "execution_count": 85,
      "outputs": [
        {
          "output_type": "execute_result",
          "data": {
            "text/plain": [
              "[10, 20, 9999, 40, 50, 8888, 7777, [10, 20, 30], 22, 33]"
            ]
          },
          "metadata": {},
          "execution_count": 85
        }
      ]
    },
    {
      "cell_type": "code",
      "source": [
        "mylist.pop()"
      ],
      "metadata": {
        "colab": {
          "base_uri": "https://localhost:8080/"
        },
        "id": "rm74fDIrHU87",
        "outputId": "651e01ca-cc45-4798-a982-8ddd2ab3a176"
      },
      "execution_count": 86,
      "outputs": [
        {
          "output_type": "execute_result",
          "data": {
            "text/plain": [
              "33"
            ]
          },
          "metadata": {},
          "execution_count": 86
        }
      ]
    },
    {
      "cell_type": "code",
      "source": [
        "mylist"
      ],
      "metadata": {
        "colab": {
          "base_uri": "https://localhost:8080/"
        },
        "id": "7T2X5VBoHV4k",
        "outputId": "f3ccb500-b564-4303-8203-242637842c0c"
      },
      "execution_count": 87,
      "outputs": [
        {
          "output_type": "execute_result",
          "data": {
            "text/plain": [
              "[10, 20, 9999, 40, 50, 8888, 7777, [10, 20, 30], 22]"
            ]
          },
          "metadata": {},
          "execution_count": 87
        }
      ]
    },
    {
      "cell_type": "code",
      "source": [
        "# How to use lists\n",
        "# We can use lists in a number of ways:\n",
        "\n",
        "# Define one at the top of our program, and read from it\n",
        "# Define an empty list and append new values to it, to accumulate data"
      ],
      "metadata": {
        "id": "MmcKQH3JHZvk"
      },
      "execution_count": null,
      "outputs": []
    },
    {
      "cell_type": "code",
      "source": [
        "# Exercise: Vowels, digits, and others (list edition!)\n",
        "# Define three empty lists -- vowels, digits, and others\n",
        "# Ask the user to enter text.\n",
        "# Go through the text, one character at a time.\n",
        "# If it's a vowel, append it to vowels\n",
        "# If it's a digit, append it to digits\n",
        "# If it's neither, then append to others\n",
        "# When you're done, print all three lists\n",
        "# Example:\n",
        "\n",
        "# Enter text: hello!! 123\n",
        "# vowels = ['e', 'o']\n",
        "# digits = ['1', '2', '3']\n",
        "# others = ['h', 'l', 'l', '!', '!', ' ']"
      ],
      "metadata": {
        "id": "07PEaWP2HfHJ"
      },
      "execution_count": null,
      "outputs": []
    },
    {
      "cell_type": "code",
      "source": [
        "vowels = []\n",
        "digits = []\n",
        "others = []\n",
        "\n",
        "text = input('Enter some text: ').strip()\n",
        "for one_character in text:\n",
        "  if one_character in 'aeiou':\n",
        "    vowels.append(one_character)\n",
        "  elif one_character.isdigit():\n",
        "    digits.append(one_character)\n",
        "  else:\n",
        "    others.append(one_character)\n",
        "\n",
        "#print(f'vowels = {vowels}')\n",
        "#print(f'digits = {digits}')\n",
        "#print(f'others = {others}')\n",
        "print(f'vowels = {vowels}\\ndigits = {digits}\\nothers = {others}')"
      ],
      "metadata": {
        "colab": {
          "base_uri": "https://localhost:8080/"
        },
        "id": "LusqZbeZFMB0",
        "outputId": "9014363b-62c0-4c31-d65a-dfb4993014c7"
      },
      "execution_count": 88,
      "outputs": [
        {
          "output_type": "stream",
          "name": "stdout",
          "text": [
            "Enter some text: hello!! 123\n",
            "vowels = ['e', 'o']\n",
            "digits = ['1', '2', '3']\n",
            "others = ['h', 'l', 'l', '!', '!', ' ']\n"
          ]
        }
      ]
    },
    {
      "cell_type": "code",
      "source": [
        "# Reuven solution;\n",
        "\n",
        "vowels = []\n",
        "digits = []\n",
        "others = []\n",
        "\n",
        "text = input('Enter text: ').strip()\n",
        "\n",
        "for one_character in text:\n",
        "    if one_character in 'aeiou':      # is one_character a vowel?\n",
        "        vowels.append(one_character)  # ... if so, append it to \"vowels\"\n",
        "    elif one_character.isdigit():     # is one_character a digit?\n",
        "        digits.append(one_character)  # ... if so, append it to \"digits\"\n",
        "    else:\n",
        "        others.append(one_character)  # otherwise, append it to \"others\"\n",
        "\n",
        "print(f'vowels = {vowels}')\n",
        "print(f'digits = {digits}')\n",
        "print(f'others = {others}')"
      ],
      "metadata": {
        "id": "OZxCEfE2HuH5"
      },
      "execution_count": null,
      "outputs": []
    },
    {
      "cell_type": "code",
      "source": [
        "# Splitting lists"
      ],
      "metadata": {
        "id": "DLM-J3dAIPdq"
      },
      "execution_count": null,
      "outputs": []
    },
    {
      "cell_type": "code",
      "source": [
        "x = 123\n",
        "str(x) # a string based on x"
      ],
      "metadata": {
        "colab": {
          "base_uri": "https://localhost:8080/",
          "height": 36
        },
        "id": "Yf8aGVWTISHT",
        "outputId": "af000830-17c7-430c-f181-622d60236bbb"
      },
      "execution_count": 89,
      "outputs": [
        {
          "output_type": "execute_result",
          "data": {
            "text/plain": [
              "'123'"
            ],
            "application/vnd.google.colaboratory.intrinsic+json": {
              "type": "string"
            }
          },
          "metadata": {},
          "execution_count": 89
        }
      ]
    },
    {
      "cell_type": "code",
      "source": [
        "s = '123'\n",
        "\n",
        "int(s) # get an integer based on s"
      ],
      "metadata": {
        "colab": {
          "base_uri": "https://localhost:8080/"
        },
        "id": "z6rz2maVIYhp",
        "outputId": "b66be112-0098-4ec7-d0d1-0c8bf7360143"
      },
      "execution_count": 90,
      "outputs": [
        {
          "output_type": "execute_result",
          "data": {
            "text/plain": [
              "123"
            ]
          },
          "metadata": {},
          "execution_count": 90
        }
      ]
    },
    {
      "cell_type": "code",
      "source": [
        "float(s)"
      ],
      "metadata": {
        "colab": {
          "base_uri": "https://localhost:8080/"
        },
        "id": "Eho9WIdOIdq7",
        "outputId": "a8fbf309-9117-460c-ad81-2218a97f26c7"
      },
      "execution_count": 91,
      "outputs": [
        {
          "output_type": "execute_result",
          "data": {
            "text/plain": [
              "123.0"
            ]
          },
          "metadata": {},
          "execution_count": 91
        }
      ]
    },
    {
      "cell_type": "code",
      "source": [
        "str(float(s))"
      ],
      "metadata": {
        "colab": {
          "base_uri": "https://localhost:8080/",
          "height": 36
        },
        "id": "exT1JsJoIgpA",
        "outputId": "4b0c41de-7901-4ebd-e045-a608e9c399d3"
      },
      "execution_count": 92,
      "outputs": [
        {
          "output_type": "execute_result",
          "data": {
            "text/plain": [
              "'123.0'"
            ],
            "application/vnd.google.colaboratory.intrinsic+json": {
              "type": "string"
            }
          },
          "metadata": {},
          "execution_count": 92
        }
      ]
    },
    {
      "cell_type": "code",
      "source": [
        "list(s)"
      ],
      "metadata": {
        "colab": {
          "base_uri": "https://localhost:8080/"
        },
        "id": "87lkDQcJIkoe",
        "outputId": "09b173d6-f94f-490a-fe59-b634c8f3bd2e"
      },
      "execution_count": 93,
      "outputs": [
        {
          "output_type": "execute_result",
          "data": {
            "text/plain": [
              "['1', '2', '3']"
            ]
          },
          "metadata": {},
          "execution_count": 93
        }
      ]
    },
    {
      "cell_type": "code",
      "source": [
        "s = 'ab,cdef,gh,ij'\n",
        "list(s)"
      ],
      "metadata": {
        "colab": {
          "base_uri": "https://localhost:8080/"
        },
        "id": "BcdSabstInFX",
        "outputId": "5897420a-2f73-4678-86f3-5161707f6cc5"
      },
      "execution_count": 94,
      "outputs": [
        {
          "output_type": "execute_result",
          "data": {
            "text/plain": [
              "['a', 'b', ',', 'c', 'd', 'e', 'f', ',', 'g', 'h', ',', 'i', 'j']"
            ]
          },
          "metadata": {},
          "execution_count": 94
        }
      ]
    },
    {
      "cell_type": "code",
      "source": [
        "s.split(',') # a list of strings, based on s, breaking it where it sees a ','"
      ],
      "metadata": {
        "colab": {
          "base_uri": "https://localhost:8080/"
        },
        "id": "GQ-1vIyFIvmt",
        "outputId": "db9d451b-9047-4a4b-e21e-6f8c18645bca"
      },
      "execution_count": 95,
      "outputs": [
        {
          "output_type": "execute_result",
          "data": {
            "text/plain": [
              "['ab', 'cdef', 'gh', 'ij']"
            ]
          },
          "metadata": {},
          "execution_count": 95
        }
      ]
    },
    {
      "cell_type": "code",
      "source": [
        "s = 'This is a bunch of words for my Python course'\n",
        "\n",
        "s.split(' ') # a split based on a space ' '"
      ],
      "metadata": {
        "colab": {
          "base_uri": "https://localhost:8080/"
        },
        "id": "5NmoOeAzI7rm",
        "outputId": "cbe97d2a-939b-4b94-807c-84cc3e8982b6"
      },
      "execution_count": 96,
      "outputs": [
        {
          "output_type": "execute_result",
          "data": {
            "text/plain": [
              "['This', 'is', 'a', 'bunch', 'of', 'words', 'for', 'my', 'Python', 'course']"
            ]
          },
          "metadata": {},
          "execution_count": 96
        }
      ]
    },
    {
      "cell_type": "code",
      "source": [
        "#adding in random spaces\n",
        "s = 'This  is   a bunch of    words for my     Python course'\n",
        "\n",
        "s.split(' ') # every time you encounter a space (' '), break things up into a new string"
      ],
      "metadata": {
        "colab": {
          "base_uri": "https://localhost:8080/"
        },
        "id": "IcsLi4UNJJMC",
        "outputId": "d7a9194f-2f06-48d4-e9e6-1df585bcab44"
      },
      "execution_count": 98,
      "outputs": [
        {
          "output_type": "execute_result",
          "data": {
            "text/plain": [
              "['This',\n",
              " '',\n",
              " 'is',\n",
              " '',\n",
              " '',\n",
              " 'a',\n",
              " 'bunch',\n",
              " 'of',\n",
              " '',\n",
              " '',\n",
              " '',\n",
              " 'words',\n",
              " 'for',\n",
              " 'my',\n",
              " '',\n",
              " '',\n",
              " '',\n",
              " '',\n",
              " 'Python',\n",
              " 'course']"
            ]
          },
          "metadata": {},
          "execution_count": 98
        }
      ]
    },
    {
      "cell_type": "code",
      "source": [
        "#instead don't pass a delimeter at all\n",
        "#ivoke str.split() and don't give it an argument then ALL WHITESPACE\n",
        "# of any combination and number will be seen as a delimeter\n",
        "# this mean: space, \\n, \\t, \\v, and \\r\n",
        "\n",
        "s.split() # notice, nothing in the ()"
      ],
      "metadata": {
        "colab": {
          "base_uri": "https://localhost:8080/"
        },
        "id": "vBUd5kzwJit8",
        "outputId": "37907ad2-3790-421f-bf59-d444241006ae"
      },
      "execution_count": 99,
      "outputs": [
        {
          "output_type": "execute_result",
          "data": {
            "text/plain": [
              "['This', 'is', 'a', 'bunch', 'of', 'words', 'for', 'my', 'Python', 'course']"
            ]
          },
          "metadata": {},
          "execution_count": 99
        }
      ]
    },
    {
      "cell_type": "code",
      "source": [
        "#Exercise: Pig Latin sentence\n",
        "# First session, we saw how to write a simple Pig Latin translator\n",
        "\n",
        "'''\n",
        "word = input('Enter a word: ').strip()\n",
        "\n",
        "if word[0] in 'aeiou':\n",
        "  print(word + 'way')\n",
        "else:\n",
        "  print(word[1:0] + word[0] = 'ay')\n",
        "'''"
      ],
      "metadata": {
        "id": "btabA0BSJ_oc"
      },
      "execution_count": null,
      "outputs": []
    },
    {
      "cell_type": "code",
      "source": [
        "sentence = input('Enter a sentence: (all lowercase, no punctuation)')\n",
        "\n",
        "for word in sentence.split():\n",
        "  if word[0] in 'aeiou':\n",
        "    print(word + 'way')\n",
        "  else:\n",
        "    print(word[1:] + word[0] + 'ay')"
      ],
      "metadata": {
        "colab": {
          "base_uri": "https://localhost:8080/"
        },
        "id": "JLNlJOv8KkMI",
        "outputId": "7f1a5999-6843-4b45-f818-6174c97c0b7e"
      },
      "execution_count": 103,
      "outputs": [
        {
          "output_type": "stream",
          "name": "stdout",
          "text": [
            "Enter a sentence: (all lowercase, no punctuation)this is a test\n",
            "histay\n",
            "isway\n",
            "away\n",
            "esttay\n"
          ]
        }
      ]
    },
    {
      "cell_type": "code",
      "source": [
        "s = 'a:bc:defg:hi'\n",
        "\n",
        "s.split(':') # the delimeter/seperate is removed"
      ],
      "metadata": {
        "colab": {
          "base_uri": "https://localhost:8080/"
        },
        "id": "JNJl4vpdNh9K",
        "outputId": "d3deb580-9147-4663-8cd1-6ad280308fd5"
      },
      "execution_count": 106,
      "outputs": [
        {
          "output_type": "execute_result",
          "data": {
            "text/plain": [
              "['a', 'bc', 'defg', 'hi']"
            ]
          },
          "metadata": {},
          "execution_count": 106
        }
      ]
    },
    {
      "cell_type": "code",
      "source": [
        "# if you involke list.pop(), it will removes and return the final element of the list\n",
        "# But if you give the integer argumet, then item at that index is removed and returned\n",
        "\n",
        "mylist = [10, 20, 30, 40 ,50]\n",
        "mylist.pop(0)"
      ],
      "metadata": {
        "colab": {
          "base_uri": "https://localhost:8080/"
        },
        "id": "PcQQxe_DM_y2",
        "outputId": "d8168ec2-0a3f-44ff-d460-aa3766f38321"
      },
      "execution_count": 104,
      "outputs": [
        {
          "output_type": "execute_result",
          "data": {
            "text/plain": [
              "10"
            ]
          },
          "metadata": {},
          "execution_count": 104
        }
      ]
    },
    {
      "cell_type": "code",
      "source": [
        "mylist"
      ],
      "metadata": {
        "colab": {
          "base_uri": "https://localhost:8080/"
        },
        "id": "6jHMcN1WNYCt",
        "outputId": "6f69152f-5625-49d1-fe26-ea4b9649372a"
      },
      "execution_count": 105,
      "outputs": [
        {
          "output_type": "execute_result",
          "data": {
            "text/plain": [
              "[20, 30, 40, 50]"
            ]
          },
          "metadata": {},
          "execution_count": 105
        }
      ]
    },
    {
      "cell_type": "code",
      "source": [
        "# Method Chaining\n",
        "# The results of a method is a Python value.  You can invoke a method on the value.\n",
        "# Doing this more than once is called Method Chaining.#But be careful on what you get back"
      ],
      "metadata": {
        "id": "64StizF_QMCC"
      },
      "execution_count": null,
      "outputs": []
    },
    {
      "cell_type": "code",
      "source": [
        "s = 'aNcD eFgH'\n",
        "\n",
        "s.title().split() # remember that split returns a list, not a string, so you can't invoke string methods on it"
      ],
      "metadata": {
        "colab": {
          "base_uri": "https://localhost:8080/"
        },
        "id": "ISIintdpQcox",
        "outputId": "37a13e04-41c5-4c06-9bff-9cbe338ebfc0"
      },
      "execution_count": 107,
      "outputs": [
        {
          "output_type": "execute_result",
          "data": {
            "text/plain": [
              "['Ancd', 'Efgh']"
            ]
          },
          "metadata": {},
          "execution_count": 107
        }
      ]
    },
    {
      "cell_type": "code",
      "source": [
        "s.title().split().capitalize()"
      ],
      "metadata": {
        "colab": {
          "base_uri": "https://localhost:8080/",
          "height": 146
        },
        "id": "5HIubR9jQwzd",
        "outputId": "e89ec476-abfd-4e8e-fea8-6bf2dda84c38"
      },
      "execution_count": 108,
      "outputs": [
        {
          "output_type": "error",
          "ename": "AttributeError",
          "evalue": "'list' object has no attribute 'capitalize'",
          "traceback": [
            "\u001b[0;31m---------------------------------------------------------------------------\u001b[0m",
            "\u001b[0;31mAttributeError\u001b[0m                            Traceback (most recent call last)",
            "\u001b[0;32m<ipython-input-108-04f12cf950be>\u001b[0m in \u001b[0;36m<cell line: 0>\u001b[0;34m()\u001b[0m\n\u001b[0;32m----> 1\u001b[0;31m \u001b[0ms\u001b[0m\u001b[0;34m.\u001b[0m\u001b[0mtitle\u001b[0m\u001b[0;34m(\u001b[0m\u001b[0;34m)\u001b[0m\u001b[0;34m.\u001b[0m\u001b[0msplit\u001b[0m\u001b[0;34m(\u001b[0m\u001b[0;34m)\u001b[0m\u001b[0;34m.\u001b[0m\u001b[0mcapitalize\u001b[0m\u001b[0;34m(\u001b[0m\u001b[0;34m)\u001b[0m\u001b[0;34m\u001b[0m\u001b[0;34m\u001b[0m\u001b[0m\n\u001b[0m",
            "\u001b[0;31mAttributeError\u001b[0m: 'list' object has no attribute 'capitalize'"
          ]
        }
      ]
    },
    {
      "cell_type": "code",
      "source": [
        "mylist = [10, 20, 30, 40, 50]\n",
        "\n",
        "mylist = mylist.append(60)\n",
        "mylist.pop() #What will this a return?"
      ],
      "metadata": {
        "colab": {
          "base_uri": "https://localhost:8080/",
          "height": 182
        },
        "id": "n238riW_Q2xU",
        "outputId": "fc131671-7379-4718-a61d-ec569d97d18a"
      },
      "execution_count": 109,
      "outputs": [
        {
          "output_type": "error",
          "ename": "AttributeError",
          "evalue": "'NoneType' object has no attribute 'pop'",
          "traceback": [
            "\u001b[0;31m---------------------------------------------------------------------------\u001b[0m",
            "\u001b[0;31mAttributeError\u001b[0m                            Traceback (most recent call last)",
            "\u001b[0;32m<ipython-input-109-b228b75c45a9>\u001b[0m in \u001b[0;36m<cell line: 0>\u001b[0;34m()\u001b[0m\n\u001b[1;32m      2\u001b[0m \u001b[0;34m\u001b[0m\u001b[0m\n\u001b[1;32m      3\u001b[0m \u001b[0mmylist\u001b[0m \u001b[0;34m=\u001b[0m \u001b[0mmylist\u001b[0m\u001b[0;34m.\u001b[0m\u001b[0mappend\u001b[0m\u001b[0;34m(\u001b[0m\u001b[0;36m60\u001b[0m\u001b[0;34m)\u001b[0m\u001b[0;34m\u001b[0m\u001b[0;34m\u001b[0m\u001b[0m\n\u001b[0;32m----> 4\u001b[0;31m \u001b[0mmylist\u001b[0m\u001b[0;34m.\u001b[0m\u001b[0mpop\u001b[0m\u001b[0;34m(\u001b[0m\u001b[0;34m)\u001b[0m \u001b[0;31m#What will this a return?\u001b[0m\u001b[0;34m\u001b[0m\u001b[0;34m\u001b[0m\u001b[0m\n\u001b[0m",
            "\u001b[0;31mAttributeError\u001b[0m: 'NoneType' object has no attribute 'pop'"
          ]
        }
      ]
    },
    {
      "cell_type": "code",
      "source": [
        "#the above code should be written as;\n",
        "mylist = [10, 20, 30, 40, 50]\n",
        "\n",
        "mylist.append(60)\n",
        "mylist.pop() #What will this a return?"
      ],
      "metadata": {
        "colab": {
          "base_uri": "https://localhost:8080/"
        },
        "id": "6Tt3zA4XRFeE",
        "outputId": "026d32cf-9570-4664-f49f-06f240072be0"
      },
      "execution_count": 110,
      "outputs": [
        {
          "output_type": "execute_result",
          "data": {
            "text/plain": [
              "60"
            ]
          },
          "metadata": {},
          "execution_count": 110
        }
      ]
    },
    {
      "cell_type": "code",
      "source": [
        "# you can modify a list on which we're iterating\n",
        "# (this is generally a BAD idea)\n",
        "\n",
        "mylist = [10, 20, 30]\n",
        "\n",
        "for one_item in mylist:\n",
        "  print(one_item)\n",
        "\n",
        "  if one_item < 500:\n",
        "    mylist.append(one_item * 10)"
      ],
      "metadata": {
        "colab": {
          "base_uri": "https://localhost:8080/"
        },
        "id": "5m90ie5jRXfQ",
        "outputId": "b765bdf7-1ec2-4e89-a7c4-cd239c106f13"
      },
      "execution_count": 111,
      "outputs": [
        {
          "output_type": "stream",
          "name": "stdout",
          "text": [
            "10\n",
            "20\n",
            "30\n",
            "100\n",
            "200\n",
            "300\n",
            "1000\n",
            "2000\n",
            "3000\n"
          ]
        }
      ]
    },
    {
      "cell_type": "code",
      "source": [
        "# 'str.join', the opposite of 'str.split'"
      ],
      "metadata": {
        "id": "PyIDbyYIReu4"
      },
      "execution_count": null,
      "outputs": []
    },
    {
      "cell_type": "code",
      "source": [
        "mylist = ['abcd', 'ef', 'ghi']\n",
        "\n",
        "'*'.join(mylist)"
      ],
      "metadata": {
        "colab": {
          "base_uri": "https://localhost:8080/",
          "height": 36
        },
        "id": "M7iifFg6SCeN",
        "outputId": "71f05218-f4ef-421a-b2ec-ba03bbbcaf65"
      },
      "execution_count": 112,
      "outputs": [
        {
          "output_type": "execute_result",
          "data": {
            "text/plain": [
              "'abcd*ef*ghi'"
            ],
            "application/vnd.google.colaboratory.intrinsic+json": {
              "type": "string"
            }
          },
          "metadata": {},
          "execution_count": 112
        }
      ]
    },
    {
      "cell_type": "code",
      "source": [
        "' '.join(mylist)"
      ],
      "metadata": {
        "colab": {
          "base_uri": "https://localhost:8080/",
          "height": 36
        },
        "id": "_mr0CDi-SUao",
        "outputId": "90a9c2dc-bf60-4ab6-82c8-b66d30fe7996"
      },
      "execution_count": 113,
      "outputs": [
        {
          "output_type": "execute_result",
          "data": {
            "text/plain": [
              "'abcd ef ghi'"
            ],
            "application/vnd.google.colaboratory.intrinsic+json": {
              "type": "string"
            }
          },
          "metadata": {},
          "execution_count": 113
        }
      ]
    },
    {
      "cell_type": "code",
      "source": [
        "print('\\n'.join(mylist))"
      ],
      "metadata": {
        "colab": {
          "base_uri": "https://localhost:8080/"
        },
        "id": "pQ2YxqqASYlE",
        "outputId": "ee6b29f0-ad08-4aeb-bb23-6b64b2d6badc"
      },
      "execution_count": 114,
      "outputs": [
        {
          "output_type": "stream",
          "name": "stdout",
          "text": [
            "abcd\n",
            "ef\n",
            "ghi\n"
          ]
        }
      ]
    },
    {
      "cell_type": "code",
      "source": [
        "'*****'.join(mylist)"
      ],
      "metadata": {
        "colab": {
          "base_uri": "https://localhost:8080/",
          "height": 36
        },
        "id": "OlALKq_pSdcr",
        "outputId": "1641fcd2-7eec-47a0-8f6a-1b517bf87a3f"
      },
      "execution_count": 115,
      "outputs": [
        {
          "output_type": "execute_result",
          "data": {
            "text/plain": [
              "'abcd*****ef*****ghi'"
            ],
            "application/vnd.google.colaboratory.intrinsic+json": {
              "type": "string"
            }
          },
          "metadata": {},
          "execution_count": 115
        }
      ]
    },
    {
      "cell_type": "code",
      "source": [
        "'*'.join([10, 20, 30]) #will not work"
      ],
      "metadata": {
        "colab": {
          "base_uri": "https://localhost:8080/",
          "height": 146
        },
        "id": "tynwbRwkSim0",
        "outputId": "529ae10e-31e0-4d46-b167-f2a84c0bdd86"
      },
      "execution_count": 116,
      "outputs": [
        {
          "output_type": "error",
          "ename": "TypeError",
          "evalue": "sequence item 0: expected str instance, int found",
          "traceback": [
            "\u001b[0;31m---------------------------------------------------------------------------\u001b[0m",
            "\u001b[0;31mTypeError\u001b[0m                                 Traceback (most recent call last)",
            "\u001b[0;32m<ipython-input-116-6704e49a6177>\u001b[0m in \u001b[0;36m<cell line: 0>\u001b[0;34m()\u001b[0m\n\u001b[0;32m----> 1\u001b[0;31m \u001b[0;34m'*'\u001b[0m\u001b[0;34m.\u001b[0m\u001b[0mjoin\u001b[0m\u001b[0;34m(\u001b[0m\u001b[0;34m[\u001b[0m\u001b[0;36m10\u001b[0m\u001b[0;34m,\u001b[0m \u001b[0;36m20\u001b[0m\u001b[0;34m,\u001b[0m \u001b[0;36m30\u001b[0m\u001b[0;34m]\u001b[0m\u001b[0;34m)\u001b[0m \u001b[0;31m#will not work\u001b[0m\u001b[0;34m\u001b[0m\u001b[0;34m\u001b[0m\u001b[0m\n\u001b[0m",
            "\u001b[0;31mTypeError\u001b[0m: sequence item 0: expected str instance, int found"
          ]
        }
      ]
    },
    {
      "cell_type": "code",
      "source": [
        "# When do we use 'str.join'"
      ],
      "metadata": {
        "id": "taYF697SSqGN"
      },
      "execution_count": null,
      "outputs": []
    },
    {
      "cell_type": "code",
      "source": [
        "output = []\n",
        "\n",
        "for one_number in [10, 20, 30]:\n",
        "  output.append(str(one_number))\n",
        "\n",
        "print('*'.join(output))"
      ],
      "metadata": {
        "colab": {
          "base_uri": "https://localhost:8080/"
        },
        "id": "LTa0U6RCTBqJ",
        "outputId": "83b8a1ae-a8cf-471f-9107-a2bbc93d4c38"
      },
      "execution_count": 120,
      "outputs": [
        {
          "output_type": "stream",
          "name": "stdout",
          "text": [
            "10*20*30\n"
          ]
        }
      ]
    },
    {
      "cell_type": "code",
      "source": [
        "# Exercise"
      ],
      "metadata": {
        "id": "bCUGsBc2TW92"
      },
      "execution_count": null,
      "outputs": []
    },
    {
      "cell_type": "code",
      "source": [
        "word_list = []\n",
        "sentence = input('Enter a sentence (all lowercase, no punctuation): ')\n",
        "\n",
        "for word in sentence.split():\n",
        "  if word[0] in 'aeiou':\n",
        "    word_list.append(word + 'way')\n",
        "  else:\n",
        "    word_list.append(word[1:] + word[0] + 'ay')\n",
        "\n",
        "#print(' '.join(word_list))\n",
        "print(f'The Pig Latin translation is: {\" \".join(word_list)}')"
      ],
      "metadata": {
        "colab": {
          "base_uri": "https://localhost:8080/"
        },
        "id": "TKMSwfIWTbZk",
        "outputId": "8fff313f-e3fa-4438-e8c8-33790738b56c"
      },
      "execution_count": 151,
      "outputs": [
        {
          "output_type": "stream",
          "name": "stdout",
          "text": [
            "Enter a sentence (all lowercase, no punctuation): this is a test\n",
            "The Pig Latin translation is: histay isway away esttay\n"
          ]
        }
      ]
    },
    {
      "cell_type": "markdown",
      "source": [
        "Tuples"
      ],
      "metadata": {
        "id": "mGuGd3NsXdHw"
      }
    },
    {
      "cell_type": "code",
      "source": [
        "t = (10, 20, 30, 40, 50, 60) # tuples use round brackets ()\n",
        "\n",
        "len(t)"
      ],
      "metadata": {
        "colab": {
          "base_uri": "https://localhost:8080/"
        },
        "id": "qFmvbY1aV9-q",
        "outputId": "ce0fc71d-e420-4c4b-b21c-ab1fc111b834"
      },
      "execution_count": 131,
      "outputs": [
        {
          "output_type": "execute_result",
          "data": {
            "text/plain": [
              "6"
            ]
          },
          "metadata": {},
          "execution_count": 131
        }
      ]
    },
    {
      "cell_type": "code",
      "source": [
        "t[0]"
      ],
      "metadata": {
        "colab": {
          "base_uri": "https://localhost:8080/"
        },
        "id": "us8jx-UqWv82",
        "outputId": "fec6e4dd-f0a5-4e10-c4db-e2683349260a"
      },
      "execution_count": 132,
      "outputs": [
        {
          "output_type": "execute_result",
          "data": {
            "text/plain": [
              "10"
            ]
          },
          "metadata": {},
          "execution_count": 132
        }
      ]
    },
    {
      "cell_type": "code",
      "source": [
        "t[1]"
      ],
      "metadata": {
        "colab": {
          "base_uri": "https://localhost:8080/"
        },
        "id": "6e_f0FvpWyQX",
        "outputId": "61e38db9-9c97-4895-b51d-b926bc9958e0"
      },
      "execution_count": 133,
      "outputs": [
        {
          "output_type": "execute_result",
          "data": {
            "text/plain": [
              "20"
            ]
          },
          "metadata": {},
          "execution_count": 133
        }
      ]
    },
    {
      "cell_type": "code",
      "source": [
        "for one_item in t:\n",
        "    print(one_item)"
      ],
      "metadata": {
        "colab": {
          "base_uri": "https://localhost:8080/"
        },
        "id": "mQbAFnZZW0cR",
        "outputId": "6979526d-f514-4fd9-91e2-bdff648a71f7"
      },
      "execution_count": 134,
      "outputs": [
        {
          "output_type": "stream",
          "name": "stdout",
          "text": [
            "10\n",
            "20\n",
            "30\n",
            "40\n",
            "50\n",
            "60\n"
          ]
        }
      ]
    },
    {
      "cell_type": "code",
      "source": [
        "t[2:5]"
      ],
      "metadata": {
        "colab": {
          "base_uri": "https://localhost:8080/"
        },
        "id": "0iwt7mqlW4ik",
        "outputId": "01788f40-233b-41f3-dd38-9ff586329b7d"
      },
      "execution_count": 135,
      "outputs": [
        {
          "output_type": "execute_result",
          "data": {
            "text/plain": [
              "(30, 40, 50)"
            ]
          },
          "metadata": {},
          "execution_count": 135
        }
      ]
    },
    {
      "cell_type": "code",
      "source": [
        "t[0] = '!'"
      ],
      "metadata": {
        "colab": {
          "base_uri": "https://localhost:8080/",
          "height": 146
        },
        "id": "RCAuI7QNW62u",
        "outputId": "1ddb88d4-1133-4925-abc9-6ac14cb63e8c"
      },
      "execution_count": 136,
      "outputs": [
        {
          "output_type": "error",
          "ename": "TypeError",
          "evalue": "'tuple' object does not support item assignment",
          "traceback": [
            "\u001b[0;31m---------------------------------------------------------------------------\u001b[0m",
            "\u001b[0;31mTypeError\u001b[0m                                 Traceback (most recent call last)",
            "\u001b[0;32m<ipython-input-136-4602013894c6>\u001b[0m in \u001b[0;36m<cell line: 0>\u001b[0;34m()\u001b[0m\n\u001b[0;32m----> 1\u001b[0;31m \u001b[0mt\u001b[0m\u001b[0;34m[\u001b[0m\u001b[0;36m0\u001b[0m\u001b[0;34m]\u001b[0m \u001b[0;34m=\u001b[0m \u001b[0;34m'!'\u001b[0m\u001b[0;34m\u001b[0m\u001b[0;34m\u001b[0m\u001b[0m\n\u001b[0m",
            "\u001b[0;31mTypeError\u001b[0m: 'tuple' object does not support item assignment"
          ]
        }
      ]
    },
    {
      "cell_type": "code",
      "source": [
        "t= 10, 20, 30, 40, 50 # works for tuples ad does not need the brackets"
      ],
      "metadata": {
        "id": "E3kgk5RgXAfI"
      },
      "execution_count": 137,
      "outputs": []
    },
    {
      "cell_type": "code",
      "source": [
        "t"
      ],
      "metadata": {
        "colab": {
          "base_uri": "https://localhost:8080/"
        },
        "id": "04FkzuroXIHX",
        "outputId": "f090ad4e-14ea-4c48-be5f-04a849ee5693"
      },
      "execution_count": 138,
      "outputs": [
        {
          "output_type": "execute_result",
          "data": {
            "text/plain": [
              "(10, 20, 30, 40, 50)"
            ]
          },
          "metadata": {},
          "execution_count": 138
        }
      ]
    },
    {
      "cell_type": "code",
      "source": [
        "mylist = [10, 20, 30]\n",
        "\n",
        "x = mylist\n",
        "x"
      ],
      "metadata": {
        "colab": {
          "base_uri": "https://localhost:8080/"
        },
        "id": "qGsR8G0UXJV1",
        "outputId": "4826163d-4eda-4050-c390-0c6125a7933d"
      },
      "execution_count": 139,
      "outputs": [
        {
          "output_type": "execute_result",
          "data": {
            "text/plain": [
              "[10, 20, 30]"
            ]
          },
          "metadata": {},
          "execution_count": 139
        }
      ]
    },
    {
      "cell_type": "code",
      "source": [
        "x,y,z = mylist"
      ],
      "metadata": {
        "id": "-qlnMhS8XQOl"
      },
      "execution_count": 140,
      "outputs": []
    },
    {
      "cell_type": "code",
      "source": [
        "x"
      ],
      "metadata": {
        "colab": {
          "base_uri": "https://localhost:8080/"
        },
        "id": "sS-fVy1EXT1R",
        "outputId": "4a4ecd6c-353a-4230-dfd6-5043ebc42602"
      },
      "execution_count": 141,
      "outputs": [
        {
          "output_type": "execute_result",
          "data": {
            "text/plain": [
              "10"
            ]
          },
          "metadata": {},
          "execution_count": 141
        }
      ]
    },
    {
      "cell_type": "code",
      "source": [
        "y"
      ],
      "metadata": {
        "colab": {
          "base_uri": "https://localhost:8080/"
        },
        "id": "yJy0jgThXU6Q",
        "outputId": "fdeb78e1-45c6-4339-e7c4-19ab6f3a1770"
      },
      "execution_count": 142,
      "outputs": [
        {
          "output_type": "execute_result",
          "data": {
            "text/plain": [
              "20"
            ]
          },
          "metadata": {},
          "execution_count": 142
        }
      ]
    },
    {
      "cell_type": "code",
      "source": [
        "z"
      ],
      "metadata": {
        "colab": {
          "base_uri": "https://localhost:8080/"
        },
        "id": "g6LobtWiXWCS",
        "outputId": "770c019f-cc2e-4515-b235-4f6288c7026a"
      },
      "execution_count": 143,
      "outputs": [
        {
          "output_type": "execute_result",
          "data": {
            "text/plain": [
              "30"
            ]
          },
          "metadata": {},
          "execution_count": 143
        }
      ]
    },
    {
      "cell_type": "markdown",
      "source": [],
      "metadata": {
        "id": "efoPItVrXX_b"
      }
    },
    {
      "cell_type": "code",
      "source": [
        "name = 'Matthew Tennant'\n",
        "\n",
        "first_name, last_name = name.split()"
      ],
      "metadata": {
        "id": "299yf3a0XZvr"
      },
      "execution_count": 144,
      "outputs": []
    },
    {
      "cell_type": "code",
      "source": [
        "first_name"
      ],
      "metadata": {
        "colab": {
          "base_uri": "https://localhost:8080/",
          "height": 36
        },
        "id": "q4EMrNEaXo5Y",
        "outputId": "3c0abb20-eacf-4caa-a7b9-f33083640ed1"
      },
      "execution_count": 145,
      "outputs": [
        {
          "output_type": "execute_result",
          "data": {
            "text/plain": [
              "'Matthew'"
            ],
            "application/vnd.google.colaboratory.intrinsic+json": {
              "type": "string"
            }
          },
          "metadata": {},
          "execution_count": 145
        }
      ]
    },
    {
      "cell_type": "code",
      "source": [
        "last_name"
      ],
      "metadata": {
        "colab": {
          "base_uri": "https://localhost:8080/",
          "height": 36
        },
        "id": "8_EWpuXlXqWf",
        "outputId": "39f6f93c-3af6-43aa-a21e-f769c162fc85"
      },
      "execution_count": 146,
      "outputs": [
        {
          "output_type": "execute_result",
          "data": {
            "text/plain": [
              "'Tennant'"
            ],
            "application/vnd.google.colaboratory.intrinsic+json": {
              "type": "string"
            }
          },
          "metadata": {},
          "execution_count": 146
        }
      ]
    },
    {
      "cell_type": "code",
      "source": [
        "s = 'abcd'\n",
        "\n",
        "for one_item in enumerate(s):\n",
        "  print(one_item)"
      ],
      "metadata": {
        "colab": {
          "base_uri": "https://localhost:8080/"
        },
        "id": "ynwrdBByXsvx",
        "outputId": "fb94b192-8665-4334-b9f8-9a34d6d355ff"
      },
      "execution_count": 147,
      "outputs": [
        {
          "output_type": "stream",
          "name": "stdout",
          "text": [
            "(0, 'a')\n",
            "(1, 'b')\n",
            "(2, 'c')\n",
            "(3, 'd')\n"
          ]
        }
      ]
    },
    {
      "cell_type": "code",
      "source": [
        "s= 'abcd'\n",
        "\n",
        "for one_item in enumerate(s):\n",
        "  index, one_letter = one_item\n",
        "  print(f'{index}: {one_letter}')"
      ],
      "metadata": {
        "colab": {
          "base_uri": "https://localhost:8080/"
        },
        "id": "sCeLUT3iX2LM",
        "outputId": "365669bf-8536-4fff-c8f6-405ed827a17a"
      },
      "execution_count": 148,
      "outputs": [
        {
          "output_type": "stream",
          "name": "stdout",
          "text": [
            "0: a\n",
            "1: b\n",
            "2: c\n",
            "3: d\n"
          ]
        }
      ]
    },
    {
      "cell_type": "code",
      "source": [
        "for index, one_letter in enumerate(s):\n",
        "  print(f'{index}: {one_letter}')"
      ],
      "metadata": {
        "colab": {
          "base_uri": "https://localhost:8080/"
        },
        "id": "vwbKFWjYYEYu",
        "outputId": "8573ad32-10f2-4560-ddf0-ac296f86277a"
      },
      "execution_count": 149,
      "outputs": [
        {
          "output_type": "stream",
          "name": "stdout",
          "text": [
            "0: a\n",
            "1: b\n",
            "2: c\n",
            "3: d\n"
          ]
        }
      ]
    }
  ]
}