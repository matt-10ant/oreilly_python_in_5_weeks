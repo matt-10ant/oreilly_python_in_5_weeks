{
  "nbformat": 4,
  "nbformat_minor": 0,
  "metadata": {
    "colab": {
      "provenance": [],
      "authorship_tag": "ABX9TyOoH+Q6OHIY5XNcs4j2sHv5",
      "include_colab_link": true
    },
    "kernelspec": {
      "name": "python3",
      "display_name": "Python 3"
    },
    "language_info": {
      "name": "python"
    }
  },
  "cells": [
    {
      "cell_type": "markdown",
      "metadata": {
        "id": "view-in-github",
        "colab_type": "text"
      },
      "source": [
        "<a href=\"https://colab.research.google.com/github/matt-10ant/oreilly_python_in_5_weeks/blob/main/20250603_Python_in_5_Weeks.ipynb\" target=\"_parent\"><img src=\"https://colab.research.google.com/assets/colab-badge.svg\" alt=\"Open In Colab\"/></a>"
      ]
    },
    {
      "cell_type": "code",
      "execution_count": null,
      "metadata": {
        "colab": {
          "base_uri": "https://localhost:8080/"
        },
        "id": "EV32ofAXlIAO",
        "outputId": "b813cced-7daa-44f7-b128-11804bd13b9b"
      },
      "outputs": [
        {
          "name": "stdout",
          "output_type": "stream",
          "text": [
            "Enter your name: Matt\n"
          ]
        }
      ],
      "source": [
        "name = input('Enter your name: ')"
      ]
    },
    {
      "cell_type": "code",
      "source": [
        "print(name)"
      ],
      "metadata": {
        "colab": {
          "base_uri": "https://localhost:8080/"
        },
        "id": "Deb19irhyPd7",
        "outputId": "d9cdcefc-0fda-4c03-e354-ffcc819ca90a"
      },
      "execution_count": null,
      "outputs": [
        {
          "output_type": "stream",
          "name": "stdout",
          "text": [
            "Matt\n"
          ]
        }
      ]
    },
    {
      "cell_type": "code",
      "source": [
        "print('Hello, ' + name)"
      ],
      "metadata": {
        "colab": {
          "base_uri": "https://localhost:8080/"
        },
        "id": "K8mIaX73yTTd",
        "outputId": "bf48b4e4-cf33-4c20-ad25-5dd52c3066c8"
      },
      "execution_count": null,
      "outputs": [
        {
          "output_type": "stream",
          "name": "stdout",
          "text": [
            "Hello, Matt\n"
          ]
        }
      ]
    },
    {
      "cell_type": "code",
      "source": [
        "x = input('Enter a number: ')\n",
        "print(x * 3)"
      ],
      "metadata": {
        "colab": {
          "base_uri": "https://localhost:8080/"
        },
        "id": "LqG9fFW3yZIw",
        "outputId": "845a3e5e-37a1-4c81-d1e4-13c90da521bc"
      },
      "execution_count": null,
      "outputs": [
        {
          "output_type": "stream",
          "name": "stdout",
          "text": [
            "Enter a number: 10\n",
            "101010\n"
          ]
        }
      ]
    },
    {
      "cell_type": "code",
      "source": [
        "x"
      ],
      "metadata": {
        "colab": {
          "base_uri": "https://localhost:8080/",
          "height": 36
        },
        "id": "bWtEfLxszQIy",
        "outputId": "f8d15426-84db-4095-d533-a2bba1c833cf"
      },
      "execution_count": null,
      "outputs": [
        {
          "output_type": "execute_result",
          "data": {
            "text/plain": [
              "'10'"
            ],
            "application/vnd.google.colaboratory.intrinsic+json": {
              "type": "string"
            }
          },
          "metadata": {},
          "execution_count": 27
        }
      ]
    },
    {
      "cell_type": "code",
      "source": [
        "x = 10\n",
        "x + 3"
      ],
      "metadata": {
        "colab": {
          "base_uri": "https://localhost:8080/"
        },
        "id": "CvCTmc8PzWKm",
        "outputId": "1908356d-c7f3-4845-b795-233c78d5e333"
      },
      "execution_count": null,
      "outputs": [
        {
          "output_type": "execute_result",
          "data": {
            "text/plain": [
              "13"
            ]
          },
          "metadata": {},
          "execution_count": 28
        }
      ]
    },
    {
      "cell_type": "code",
      "source": [
        "x = 'abcd'\n",
        "y = 'abcd'\n",
        "x == y"
      ],
      "metadata": {
        "colab": {
          "base_uri": "https://localhost:8080/"
        },
        "id": "LcdHqUwZzckT",
        "outputId": "22f3c884-267f-4413-8f21-0f1a9cbdf1a6"
      },
      "execution_count": null,
      "outputs": [
        {
          "output_type": "execute_result",
          "data": {
            "text/plain": [
              "True"
            ]
          },
          "metadata": {},
          "execution_count": 29
        }
      ]
    },
    {
      "cell_type": "code",
      "source": [
        "x = 'abcd'\n",
        "y = 'ABCD'\n",
        "x == y"
      ],
      "metadata": {
        "colab": {
          "base_uri": "https://localhost:8080/"
        },
        "id": "mW5hbaZxzkJ1",
        "outputId": "02b5f7e4-0bb2-4b90-83af-d392e83f8264"
      },
      "execution_count": null,
      "outputs": [
        {
          "output_type": "execute_result",
          "data": {
            "text/plain": [
              "False"
            ]
          },
          "metadata": {},
          "execution_count": 30
        }
      ]
    },
    {
      "cell_type": "code",
      "source": [
        "x = 'abcd'\n",
        "y = 'abcd '\n",
        "x == y"
      ],
      "metadata": {
        "colab": {
          "base_uri": "https://localhost:8080/"
        },
        "id": "1dHDcRVtzmht",
        "outputId": "2aced9c8-e304-4010-b5e7-280d96331b86"
      },
      "execution_count": null,
      "outputs": [
        {
          "output_type": "execute_result",
          "data": {
            "text/plain": [
              "False"
            ]
          },
          "metadata": {},
          "execution_count": 31
        }
      ]
    },
    {
      "cell_type": "code",
      "source": [
        "x = 'abcd'\n",
        "y = 'abcde'\n",
        "x < y"
      ],
      "metadata": {
        "colab": {
          "base_uri": "https://localhost:8080/"
        },
        "id": "LmNKNhbnzphg",
        "outputId": "75badd0e-423b-48ec-8247-5f7c617c88f8"
      },
      "execution_count": null,
      "outputs": [
        {
          "output_type": "execute_result",
          "data": {
            "text/plain": [
              "True"
            ]
          },
          "metadata": {},
          "execution_count": 32
        }
      ]
    },
    {
      "cell_type": "code",
      "source": [
        "name = input('Enter your name: ')\n",
        "city = input('Enter your location city: ')\n",
        "print('Hello, ' + name + ', from ' + city + ', nice to meet you!')"
      ],
      "metadata": {
        "colab": {
          "base_uri": "https://localhost:8080/"
        },
        "id": "s0_0tBxR0JvC",
        "outputId": "17c6d7da-4cb3-4d92-bd2f-e1f35641c6f6"
      },
      "execution_count": null,
      "outputs": [
        {
          "output_type": "stream",
          "name": "stdout",
          "text": [
            "Enter your name: Matt\n",
            "Enter your location city: London\n",
            "Hello, Matt, from London, nice to meet you!\n"
          ]
        }
      ]
    },
    {
      "cell_type": "code",
      "source": [
        "name = input('Enter your name: ')\n",
        "city = input('Enter your location city: ')\n",
        "print(f'Hello, {name} from {city}, nice to meet you!')"
      ],
      "metadata": {
        "colab": {
          "base_uri": "https://localhost:8080/"
        },
        "id": "DxpQ8MG3167f",
        "outputId": "502f366e-e207-43de-a45f-f5eae2399211"
      },
      "execution_count": null,
      "outputs": [
        {
          "output_type": "stream",
          "name": "stdout",
          "text": [
            "Enter your name: Matt\n",
            "Enter your location city: London\n",
            "Hello, Matt from London, nice to meet you!\n"
          ]
        }
      ]
    },
    {
      "cell_type": "code",
      "source": [
        "name = input('Enter your name: ')\n",
        "if name == 'Matt':\n",
        "  print('Hello, sir!')\n",
        "  print('It is great to see you again!')\n",
        "else:\n",
        "  print(f'Hello, {name}, whoever you are.')"
      ],
      "metadata": {
        "colab": {
          "base_uri": "https://localhost:8080/"
        },
        "id": "pbMlDLw34IeL",
        "outputId": "72e85122-c033-47e2-9b13-573c85035934"
      },
      "execution_count": null,
      "outputs": [
        {
          "output_type": "stream",
          "name": "stdout",
          "text": [
            "Enter your name: Matt\n",
            "Hello, sir!\n",
            "It is great to see you again!\n"
          ]
        }
      ]
    },
    {
      "cell_type": "code",
      "source": [
        "#Ask the user to enter one word (all lowercase, no punctuation) and assign to 'first'\n",
        "#Ask the user to enter a second word (all lowercase, no punctuation) and assign to 'second'\n",
        "#We will assume (for now) that the words are different\n",
        "#Print which word comes before the other word\n",
        "\n",
        "first = input('Enter the first word: ')\n",
        "second = input('Enter a second word: ')\n",
        "with_formatting = input('Add formatting (Yes or No)? ')\n",
        "\n",
        "if with_formatting == 'Yes':\n",
        "  print('**************')\n",
        "\n",
        "if first == second:\n",
        "  print('The words are the same.')\n",
        "  second2 = input('Enter a different second word: ')\n",
        "  if first < second2:\n",
        "    print(f'{first} comes before {second2}')\n",
        "  else:\n",
        "    print(f'{second2} comes before {first}')\n",
        "\n",
        "if with_formatting == 'Yes':\n",
        "  print('**************')"
      ],
      "metadata": {
        "colab": {
          "base_uri": "https://localhost:8080/"
        },
        "id": "O5m-t9y_5zhr",
        "outputId": "8c3c30f5-1ede-41cc-e09e-5ddead228d62"
      },
      "execution_count": null,
      "outputs": [
        {
          "output_type": "stream",
          "name": "stdout",
          "text": [
            "Enter the first word: chicken\n",
            "Enter a second word: chicken\n",
            "Add formatting (Yes or No)? Yes\n",
            "**************\n",
            "The words are the same.\n",
            "Enter a different second word: egg\n",
            "chicken comes before egg\n",
            "**************\n"
          ]
        }
      ]
    },
    {
      "cell_type": "code",
      "source": [
        "name = input('Enter your name: ')\n",
        "\n",
        "if name == 'Matt':\n",
        "  print('Hello, sir!')\n",
        "elif name == 'someone else':\n",
        "  print('That is a weird name')\n",
        "elif name == 'teacup':\n",
        "  print('How are you typing?')\n",
        "else:\n",
        "  print(f'Hello, {name}, I do not know you.')"
      ],
      "metadata": {
        "colab": {
          "base_uri": "https://localhost:8080/"
        },
        "id": "iB5fIFE8BE9M",
        "outputId": "cc5fefb6-705a-43db-df30-11189a66a0b2"
      },
      "execution_count": null,
      "outputs": [
        {
          "output_type": "stream",
          "name": "stdout",
          "text": [
            "Enter your name: matte\n",
            "Hello, matte, I do not know you.\n"
          ]
        }
      ]
    },
    {
      "cell_type": "code",
      "source": [
        "#Ask the user to enter one word (all lowercase, no punctuation) and assign to 'first'\n",
        "#Ask the user to enter a second word (all lowercase, no punctuation) and assign to 'second'\n",
        "#We will assume (for now) that the words are different\n",
        "#Print which word comes before the other word\n",
        "\n",
        "first = input('Enter the first word: ')\n",
        "second = input('Enter a second word: ')\n",
        "with_formatting = input('Add formatting (Yes or No)? ')\n",
        "\n",
        "if with_formatting == 'Yes':\n",
        "  print('**************')\n",
        "\n",
        "if first == second:\n",
        "  print('The words are the same.')\n",
        "  second2 = input('Enter a different second word: ')\n",
        "  if first < second2:\n",
        "    print(f'{first} comes before {second2}')\n",
        "  else:\n",
        "    print(f'{second2} comes before {first}')\n",
        "elif first < second:\n",
        "    print(f'{first} comes before {second}')\n",
        "else:\n",
        "    print(f'{second} comes before {first}')\n",
        "\n",
        "if with_formatting == 'Yes':\n",
        "  print('**************')"
      ],
      "metadata": {
        "colab": {
          "base_uri": "https://localhost:8080/"
        },
        "id": "9RykcDhNCtsc",
        "outputId": "8e74657c-e675-40bb-ab97-39e2c26b361a"
      },
      "execution_count": null,
      "outputs": [
        {
          "output_type": "stream",
          "name": "stdout",
          "text": [
            "Enter the first word: egg\n",
            "Enter a second word: egg\n",
            "Add formatting (Yes or No)? Yes\n",
            "**************\n",
            "The words are the same.\n",
            "Enter a different second word: salad\n",
            "egg comes before salad\n",
            "**************\n"
          ]
        }
      ]
    },
    {
      "cell_type": "code",
      "source": [
        "first = input('Enter the first word: ')\n",
        "second = input('Enter a second word: ')\n",
        "with_formatting = input('Add formatting (Yes or No)? ')\n",
        "\n",
        "if with_formatting == 'Yes':\n",
        "  print('**************')\n",
        "\n",
        "if first < second:\n",
        "  print(f'{first} comes before {second}')\n",
        "elif first > second:\n",
        "  print(f'{second} comes before {first}')\n",
        "else:\n",
        "  print(f'{first} and {second} are the same')\n",
        "\n",
        "if with_formatting == 'Yes':\n",
        "  print('**************')"
      ],
      "metadata": {
        "colab": {
          "base_uri": "https://localhost:8080/"
        },
        "id": "4QcS2JlLD-1K",
        "outputId": "7bfc2beb-599d-4238-c05b-932276abba7c"
      },
      "execution_count": null,
      "outputs": [
        {
          "output_type": "stream",
          "name": "stdout",
          "text": [
            "Enter the first word: and\n",
            "Enter a second word: and\n",
            "Add formatting (Yes or No)? Yes\n",
            "**************\n",
            "and and and are the same\n",
            "**************\n"
          ]
        }
      ]
    },
    {
      "cell_type": "code",
      "source": [
        "x = 10\n",
        "y = 20\n",
        "\n",
        "if    x == 10    or    y == 20:\n",
        "  print('At least one of what you want!')"
      ],
      "metadata": {
        "colab": {
          "base_uri": "https://localhost:8080/"
        },
        "id": "Wii_REMWE_wr",
        "outputId": "89e02b22-4ff0-4e9c-c0da-de8ed4c0909c"
      },
      "execution_count": null,
      "outputs": [
        {
          "output_type": "stream",
          "name": "stdout",
          "text": [
            "At least one of what you want!\n"
          ]
        }
      ]
    },
    {
      "cell_type": "code",
      "source": [
        "x = 10\n",
        "y = 20\n",
        "\n",
        "if    x == 50    or    y == 20:\n",
        "  print('At least one of what you want!')"
      ],
      "metadata": {
        "colab": {
          "base_uri": "https://localhost:8080/"
        },
        "id": "dYn26IIiFmNd",
        "outputId": "aea224dc-cee4-4a78-e62d-3485872afc12"
      },
      "execution_count": null,
      "outputs": [
        {
          "output_type": "stream",
          "name": "stdout",
          "text": [
            "At least one of what you want!\n"
          ]
        }
      ]
    },
    {
      "cell_type": "code",
      "source": [
        "x = 100\n",
        "y = 20\n",
        "\n",
        "if    x >= 50    and    y <= 20:\n",
        "  print('At least one of what you want!')"
      ],
      "metadata": {
        "colab": {
          "base_uri": "https://localhost:8080/"
        },
        "id": "bOGvrfE6F-Yk",
        "outputId": "f95da7c9-4eec-45b6-ed00-8d1c2ea10e77"
      },
      "execution_count": null,
      "outputs": [
        {
          "output_type": "stream",
          "name": "stdout",
          "text": [
            "At least one of what you want!\n"
          ]
        }
      ]
    },
    {
      "cell_type": "code",
      "source": [
        "x = 10\n",
        "y = 3\n",
        "z = 'abcd'\n",
        "type(x)"
      ],
      "metadata": {
        "colab": {
          "base_uri": "https://localhost:8080/"
        },
        "id": "5T0OoZA8GTgv",
        "outputId": "1f61432a-52a1-4ff2-d8ba-aeb0e1929896"
      },
      "execution_count": null,
      "outputs": [
        {
          "output_type": "execute_result",
          "data": {
            "text/plain": [
              "int"
            ]
          },
          "metadata": {},
          "execution_count": 85
        }
      ]
    },
    {
      "cell_type": "code",
      "source": [
        "x = 'abcd'\n",
        "y = 3\n",
        "type(x)"
      ],
      "metadata": {
        "colab": {
          "base_uri": "https://localhost:8080/"
        },
        "id": "xl9F8QoGHHln",
        "outputId": "bbd74808-aa47-409a-d71c-878cba350f9f"
      },
      "execution_count": null,
      "outputs": [
        {
          "output_type": "execute_result",
          "data": {
            "text/plain": [
              "str"
            ]
          },
          "metadata": {},
          "execution_count": 86
        }
      ]
    },
    {
      "cell_type": "code",
      "source": [
        "x = 10\n",
        "y = 3\n",
        "x + y"
      ],
      "metadata": {
        "colab": {
          "base_uri": "https://localhost:8080/"
        },
        "id": "q7amG_LaHOKd",
        "outputId": "8aa2791c-6163-4f64-cb3f-c2582624dc79"
      },
      "execution_count": null,
      "outputs": [
        {
          "output_type": "execute_result",
          "data": {
            "text/plain": [
              "13"
            ]
          },
          "metadata": {},
          "execution_count": 87
        }
      ]
    },
    {
      "cell_type": "code",
      "source": [
        "x - y"
      ],
      "metadata": {
        "colab": {
          "base_uri": "https://localhost:8080/"
        },
        "id": "aUh7vayYHUfL",
        "outputId": "bf3538da-dc84-4aaa-dd15-f081d6a4c17b"
      },
      "execution_count": null,
      "outputs": [
        {
          "output_type": "execute_result",
          "data": {
            "text/plain": [
              "7"
            ]
          },
          "metadata": {},
          "execution_count": 88
        }
      ]
    },
    {
      "cell_type": "code",
      "source": [
        "x * y"
      ],
      "metadata": {
        "colab": {
          "base_uri": "https://localhost:8080/"
        },
        "id": "xDN93bWKHWtb",
        "outputId": "78151fc5-6061-430c-9f87-3f4cd68a8de1"
      },
      "execution_count": null,
      "outputs": [
        {
          "output_type": "execute_result",
          "data": {
            "text/plain": [
              "30"
            ]
          },
          "metadata": {},
          "execution_count": 91
        }
      ]
    },
    {
      "cell_type": "code",
      "source": [
        "x / y"
      ],
      "metadata": {
        "colab": {
          "base_uri": "https://localhost:8080/"
        },
        "id": "cbxM6UopHZUY",
        "outputId": "afea9f0f-6b89-4e78-8075-ea0b62ada593"
      },
      "execution_count": null,
      "outputs": [
        {
          "output_type": "execute_result",
          "data": {
            "text/plain": [
              "3.3333333333333335"
            ]
          },
          "metadata": {},
          "execution_count": 93
        }
      ]
    },
    {
      "cell_type": "code",
      "source": [
        "x // y"
      ],
      "metadata": {
        "colab": {
          "base_uri": "https://localhost:8080/"
        },
        "id": "Yb1FnRFJHft8",
        "outputId": "0c41f649-dfce-4f9a-ee69-dc8791c804ee"
      },
      "execution_count": null,
      "outputs": [
        {
          "output_type": "execute_result",
          "data": {
            "text/plain": [
              "3"
            ]
          },
          "metadata": {},
          "execution_count": 94
        }
      ]
    },
    {
      "cell_type": "code",
      "source": [
        "x % y"
      ],
      "metadata": {
        "colab": {
          "base_uri": "https://localhost:8080/"
        },
        "id": "ZqZFlur4HiYn",
        "outputId": "e586b1d2-8de1-4378-d210-6fb570f9c105"
      },
      "execution_count": null,
      "outputs": [
        {
          "output_type": "execute_result",
          "data": {
            "text/plain": [
              "1"
            ]
          },
          "metadata": {},
          "execution_count": 95
        }
      ]
    },
    {
      "cell_type": "code",
      "source": [
        "x ** y"
      ],
      "metadata": {
        "colab": {
          "base_uri": "https://localhost:8080/"
        },
        "id": "wtFGQDBEHlWw",
        "outputId": "2fdcf65b-16a3-4813-be40-85683a437eb7"
      },
      "execution_count": null,
      "outputs": [
        {
          "output_type": "execute_result",
          "data": {
            "text/plain": [
              "1000"
            ]
          },
          "metadata": {},
          "execution_count": 96
        }
      ]
    },
    {
      "cell_type": "code",
      "source": [
        "x = 10\n",
        "x = x + 1\n",
        "\n",
        "x"
      ],
      "metadata": {
        "colab": {
          "base_uri": "https://localhost:8080/"
        },
        "id": "JdTSUqvgHtMy",
        "outputId": "24832df4-ae9b-4778-af5b-636c12f43f6b"
      },
      "execution_count": null,
      "outputs": [
        {
          "output_type": "execute_result",
          "data": {
            "text/plain": [
              "11"
            ]
          },
          "metadata": {},
          "execution_count": 97
        }
      ]
    },
    {
      "cell_type": "code",
      "source": [
        "x = 10\n",
        "x += 1\n",
        "\n",
        "x"
      ],
      "metadata": {
        "colab": {
          "base_uri": "https://localhost:8080/"
        },
        "id": "xfKtCWAYHxyX",
        "outputId": "f35b5cf9-0d4b-403a-a867-974a82305ad1"
      },
      "execution_count": null,
      "outputs": [
        {
          "output_type": "execute_result",
          "data": {
            "text/plain": [
              "11"
            ]
          },
          "metadata": {},
          "execution_count": 99
        }
      ]
    },
    {
      "cell_type": "code",
      "source": [
        "x = input('Enter a number: ')\n",
        "x * 5"
      ],
      "metadata": {
        "colab": {
          "base_uri": "https://localhost:8080/",
          "height": 54
        },
        "id": "e8UQZzDFH5o3",
        "outputId": "3833a8a5-e658-47da-feef-bd494519d223"
      },
      "execution_count": null,
      "outputs": [
        {
          "name": "stdout",
          "output_type": "stream",
          "text": [
            "Enter a number: three\n"
          ]
        },
        {
          "output_type": "execute_result",
          "data": {
            "text/plain": [
              "'threethreethreethreethree'"
            ],
            "application/vnd.google.colaboratory.intrinsic+json": {
              "type": "string"
            }
          },
          "metadata": {},
          "execution_count": 101
        }
      ]
    },
    {
      "cell_type": "code",
      "source": [
        "x = input('Enter a number: ')\n",
        "x * 5"
      ],
      "metadata": {
        "colab": {
          "base_uri": "https://localhost:8080/",
          "height": 54
        },
        "id": "VQz6wUcYIHq9",
        "outputId": "fee32ed8-9edc-4127-af38-cf3a3de1581c"
      },
      "execution_count": null,
      "outputs": [
        {
          "name": "stdout",
          "output_type": "stream",
          "text": [
            "Enter a number: 3\n"
          ]
        },
        {
          "output_type": "execute_result",
          "data": {
            "text/plain": [
              "'33333'"
            ],
            "application/vnd.google.colaboratory.intrinsic+json": {
              "type": "string"
            }
          },
          "metadata": {},
          "execution_count": 102
        }
      ]
    },
    {
      "cell_type": "code",
      "source": [
        "x"
      ],
      "metadata": {
        "colab": {
          "base_uri": "https://localhost:8080/",
          "height": 36
        },
        "id": "85DSK7JfIJ00",
        "outputId": "75ab768a-fa41-4290-849c-d192efecde2e"
      },
      "execution_count": null,
      "outputs": [
        {
          "output_type": "execute_result",
          "data": {
            "text/plain": [
              "'3'"
            ],
            "application/vnd.google.colaboratory.intrinsic+json": {
              "type": "string"
            }
          },
          "metadata": {},
          "execution_count": 103
        }
      ]
    },
    {
      "cell_type": "code",
      "source": [
        "int(x)"
      ],
      "metadata": {
        "colab": {
          "base_uri": "https://localhost:8080/"
        },
        "id": "jmcPUQnnIOSG",
        "outputId": "a8fd7f01-3dcf-4199-fd17-645873cae0a3"
      },
      "execution_count": null,
      "outputs": [
        {
          "output_type": "execute_result",
          "data": {
            "text/plain": [
              "3"
            ]
          },
          "metadata": {},
          "execution_count": 104
        }
      ]
    },
    {
      "cell_type": "code",
      "source": [
        "int(x) * 5"
      ],
      "metadata": {
        "colab": {
          "base_uri": "https://localhost:8080/"
        },
        "id": "DgkrglshIRCI",
        "outputId": "5f93023e-f8c5-4945-859d-e875b11fe2a9"
      },
      "execution_count": null,
      "outputs": [
        {
          "output_type": "execute_result",
          "data": {
            "text/plain": [
              "15"
            ]
          },
          "metadata": {},
          "execution_count": 105
        }
      ]
    },
    {
      "cell_type": "code",
      "source": [
        "x = 11\n",
        "x % 2"
      ],
      "metadata": {
        "colab": {
          "base_uri": "https://localhost:8080/"
        },
        "id": "xLso6eM9Id5U",
        "outputId": "676c8295-48c6-41b0-8e94-44b4e9cd98c2"
      },
      "execution_count": null,
      "outputs": [
        {
          "output_type": "execute_result",
          "data": {
            "text/plain": [
              "1"
            ]
          },
          "metadata": {},
          "execution_count": 106
        }
      ]
    },
    {
      "cell_type": "code",
      "source": [
        "x = 10\n",
        "x % 2"
      ],
      "metadata": {
        "colab": {
          "base_uri": "https://localhost:8080/"
        },
        "id": "tRagrAfRIkm6",
        "outputId": "5d825acd-7866-4e2a-e151-aa261f6fc5a0"
      },
      "execution_count": null,
      "outputs": [
        {
          "output_type": "execute_result",
          "data": {
            "text/plain": [
              "0"
            ]
          },
          "metadata": {},
          "execution_count": 107
        }
      ]
    },
    {
      "cell_type": "code",
      "source": [
        "#Exercise: Guessing game!\n",
        "# Define a variable, 'number', to be an integer\n",
        "#Ask the user to guess that number.  We will assume the user will input only digits\n",
        "#Print one of the following;\n",
        "#  - Too low!\n",
        "#  - Too high!\n",
        "#  - You got it!\n",
        "#Example:\n",
        "#Guess: 30\n",
        "#Too low!\n",
        "\n",
        "x = 42\n",
        "user_guess = int(input(\"Guess a number: \"))\n",
        "if user_guess < x:\n",
        "    print(\"Too low!\")\n",
        "elif user_guess > x:\n",
        "    print(\"Too high!\")\n",
        "else:\n",
        "    print(\"You got it!\")"
      ],
      "metadata": {
        "colab": {
          "base_uri": "https://localhost:8080/"
        },
        "id": "xUYw-0d_I3hy",
        "outputId": "3de78647-f87a-4dc2-f16e-c8beb96a0f24"
      },
      "execution_count": null,
      "outputs": [
        {
          "output_type": "stream",
          "name": "stdout",
          "text": [
            "Guess a number: 42\n",
            "You got it!\n"
          ]
        }
      ]
    },
    {
      "cell_type": "code",
      "source": [
        "#STRINGS\n",
        "s = 'abcdefghijklmnopqrstuvwxyz'\n",
        "\n",
        "type(s)"
      ],
      "metadata": {
        "colab": {
          "base_uri": "https://localhost:8080/"
        },
        "id": "O05h9utsN73Y",
        "outputId": "f9e6f7e8-3351-4052-a8fb-2304f80a6521"
      },
      "execution_count": null,
      "outputs": [
        {
          "output_type": "execute_result",
          "data": {
            "text/plain": [
              "str"
            ]
          },
          "metadata": {},
          "execution_count": 132
        }
      ]
    },
    {
      "cell_type": "code",
      "source": [
        "len(s)"
      ],
      "metadata": {
        "colab": {
          "base_uri": "https://localhost:8080/"
        },
        "id": "Y0ruQcEHOEba",
        "outputId": "f3110873-25ec-46b0-cdfe-68621a56e304"
      },
      "execution_count": null,
      "outputs": [
        {
          "output_type": "execute_result",
          "data": {
            "text/plain": [
              "26"
            ]
          },
          "metadata": {},
          "execution_count": 112
        }
      ]
    },
    {
      "cell_type": "code",
      "source": [
        "#Index and using []\n",
        "s[0]"
      ],
      "metadata": {
        "colab": {
          "base_uri": "https://localhost:8080/",
          "height": 36
        },
        "id": "h_SGVOgyOJys",
        "outputId": "b5c1fdc1-909e-4cd4-e08e-d1b8c54e8f88"
      },
      "execution_count": null,
      "outputs": [
        {
          "output_type": "execute_result",
          "data": {
            "text/plain": [
              "'a'"
            ],
            "application/vnd.google.colaboratory.intrinsic+json": {
              "type": "string"
            }
          },
          "metadata": {},
          "execution_count": 113
        }
      ]
    },
    {
      "cell_type": "code",
      "source": [
        "s[1]"
      ],
      "metadata": {
        "colab": {
          "base_uri": "https://localhost:8080/",
          "height": 36
        },
        "id": "fGWWjYhHORd_",
        "outputId": "88d5aca3-1171-4f7e-e24b-d9d2e5ccb0cd"
      },
      "execution_count": null,
      "outputs": [
        {
          "output_type": "execute_result",
          "data": {
            "text/plain": [
              "'b'"
            ],
            "application/vnd.google.colaboratory.intrinsic+json": {
              "type": "string"
            }
          },
          "metadata": {},
          "execution_count": 114
        }
      ]
    },
    {
      "cell_type": "code",
      "source": [
        "s[26]"
      ],
      "metadata": {
        "colab": {
          "base_uri": "https://localhost:8080/",
          "height": 146
        },
        "id": "0RNhULscOTOu",
        "outputId": "9b56ab95-53e3-4e13-896b-195e57cbf0b0"
      },
      "execution_count": null,
      "outputs": [
        {
          "output_type": "error",
          "ename": "IndexError",
          "evalue": "string index out of range",
          "traceback": [
            "\u001b[0;31m---------------------------------------------------------------------------\u001b[0m",
            "\u001b[0;31mIndexError\u001b[0m                                Traceback (most recent call last)",
            "\u001b[0;32m<ipython-input-115-110a7b63557e>\u001b[0m in \u001b[0;36m<cell line: 0>\u001b[0;34m()\u001b[0m\n\u001b[0;32m----> 1\u001b[0;31m \u001b[0ms\u001b[0m\u001b[0;34m[\u001b[0m\u001b[0;36m26\u001b[0m\u001b[0;34m]\u001b[0m\u001b[0;34m\u001b[0m\u001b[0;34m\u001b[0m\u001b[0m\n\u001b[0m",
            "\u001b[0;31mIndexError\u001b[0m: string index out of range"
          ]
        }
      ]
    },
    {
      "cell_type": "code",
      "source": [
        "#s[26] does not work as the index is from 0, so in the case of s being 26 chars in length, the index is 0 to 25\n",
        "s[25]"
      ],
      "metadata": {
        "colab": {
          "base_uri": "https://localhost:8080/",
          "height": 36
        },
        "id": "bmZ7SAVfOWLk",
        "outputId": "e37a977a-1179-4bea-940f-c0fb8f45261e"
      },
      "execution_count": null,
      "outputs": [
        {
          "output_type": "execute_result",
          "data": {
            "text/plain": [
              "'z'"
            ],
            "application/vnd.google.colaboratory.intrinsic+json": {
              "type": "string"
            }
          },
          "metadata": {},
          "execution_count": 116
        }
      ]
    },
    {
      "cell_type": "code",
      "source": [
        "i = 25\n",
        "s[i]"
      ],
      "metadata": {
        "colab": {
          "base_uri": "https://localhost:8080/",
          "height": 36
        },
        "id": "HHMoweXjOibw",
        "outputId": "aed62d99-7904-4529-dce1-43b30d851bce"
      },
      "execution_count": null,
      "outputs": [
        {
          "output_type": "execute_result",
          "data": {
            "text/plain": [
              "'z'"
            ],
            "application/vnd.google.colaboratory.intrinsic+json": {
              "type": "string"
            }
          },
          "metadata": {},
          "execution_count": 117
        }
      ]
    },
    {
      "cell_type": "code",
      "source": [
        "s[ len(s)-1 ]"
      ],
      "metadata": {
        "colab": {
          "base_uri": "https://localhost:8080/",
          "height": 36
        },
        "id": "POBivD4oOqGD",
        "outputId": "392071c5-2b11-4313-bd67-ba55c453c3f2"
      },
      "execution_count": null,
      "outputs": [
        {
          "output_type": "execute_result",
          "data": {
            "text/plain": [
              "'z'"
            ],
            "application/vnd.google.colaboratory.intrinsic+json": {
              "type": "string"
            }
          },
          "metadata": {},
          "execution_count": 119
        }
      ]
    },
    {
      "cell_type": "code",
      "source": [
        "s[-1] #means the final character"
      ],
      "metadata": {
        "colab": {
          "base_uri": "https://localhost:8080/",
          "height": 36
        },
        "id": "AWaJSwIROyhx",
        "outputId": "61c38a09-4720-44e4-d961-efbac37206e1"
      },
      "execution_count": null,
      "outputs": [
        {
          "output_type": "execute_result",
          "data": {
            "text/plain": [
              "'z'"
            ],
            "application/vnd.google.colaboratory.intrinsic+json": {
              "type": "string"
            }
          },
          "metadata": {},
          "execution_count": 120
        }
      ]
    },
    {
      "cell_type": "code",
      "source": [
        "s[-2] #2nd from final character"
      ],
      "metadata": {
        "colab": {
          "base_uri": "https://localhost:8080/",
          "height": 36
        },
        "id": "A8KPbjcvO7N3",
        "outputId": "14b359ca-2e4d-4c48-bbf6-e4d935e08ef2"
      },
      "execution_count": null,
      "outputs": [
        {
          "output_type": "execute_result",
          "data": {
            "text/plain": [
              "'y'"
            ],
            "application/vnd.google.colaboratory.intrinsic+json": {
              "type": "string"
            }
          },
          "metadata": {},
          "execution_count": 121
        }
      ]
    },
    {
      "cell_type": "code",
      "source": [
        "#if you want a subset\n",
        "s[10:20] #this is knownas a slice in Python"
      ],
      "metadata": {
        "colab": {
          "base_uri": "https://localhost:8080/",
          "height": 36
        },
        "id": "ysP8d2PAO_eB",
        "outputId": "93f342ba-d069-4a90-a80f-42a246ba5087"
      },
      "execution_count": null,
      "outputs": [
        {
          "output_type": "execute_result",
          "data": {
            "text/plain": [
              "'klmnopqrst'"
            ],
            "application/vnd.google.colaboratory.intrinsic+json": {
              "type": "string"
            }
          },
          "metadata": {},
          "execution_count": 122
        }
      ]
    },
    {
      "cell_type": "code",
      "source": [
        "s[0:3] #want the first 3 characters"
      ],
      "metadata": {
        "colab": {
          "base_uri": "https://localhost:8080/",
          "height": 36
        },
        "id": "7OZTWeVWPHsw",
        "outputId": "a2455fad-80cc-448c-dac7-347f12c003b3"
      },
      "execution_count": null,
      "outputs": [
        {
          "output_type": "execute_result",
          "data": {
            "text/plain": [
              "'abc'"
            ],
            "application/vnd.google.colaboratory.intrinsic+json": {
              "type": "string"
            }
          },
          "metadata": {},
          "execution_count": 123
        }
      ]
    },
    {
      "cell_type": "code",
      "source": [
        "s[:3] #also works leaving off the starting 0"
      ],
      "metadata": {
        "colab": {
          "base_uri": "https://localhost:8080/",
          "height": 36
        },
        "id": "TZAdPB9mPP74",
        "outputId": "5421533f-744c-42df-bffa-bb476ec21e58"
      },
      "execution_count": null,
      "outputs": [
        {
          "output_type": "execute_result",
          "data": {
            "text/plain": [
              "'abc'"
            ],
            "application/vnd.google.colaboratory.intrinsic+json": {
              "type": "string"
            }
          },
          "metadata": {},
          "execution_count": 124
        }
      ]
    },
    {
      "cell_type": "code",
      "source": [
        "s[-3:] #final 3 characters"
      ],
      "metadata": {
        "colab": {
          "base_uri": "https://localhost:8080/",
          "height": 36
        },
        "id": "WX-p39fSPXQM",
        "outputId": "6380c62c-cf45-47d1-c403-41030baab527"
      },
      "execution_count": null,
      "outputs": [
        {
          "output_type": "execute_result",
          "data": {
            "text/plain": [
              "'xyz'"
            ],
            "application/vnd.google.colaboratory.intrinsic+json": {
              "type": "string"
            }
          },
          "metadata": {},
          "execution_count": 125
        }
      ]
    },
    {
      "cell_type": "code",
      "source": [
        "str(12345) # get a string back from an integer"
      ],
      "metadata": {
        "colab": {
          "base_uri": "https://localhost:8080/",
          "height": 36
        },
        "id": "li6ZMrhWPf-i",
        "outputId": "81b84ba5-a44c-434e-b0aa-1e704dfefb33"
      },
      "execution_count": null,
      "outputs": [
        {
          "output_type": "execute_result",
          "data": {
            "text/plain": [
              "'12345'"
            ],
            "application/vnd.google.colaboratory.intrinsic+json": {
              "type": "string"
            }
          },
          "metadata": {},
          "execution_count": 126
        }
      ]
    },
    {
      "cell_type": "code",
      "source": [
        "len(str(12345)) #get the length of the string"
      ],
      "metadata": {
        "colab": {
          "base_uri": "https://localhost:8080/"
        },
        "id": "cAy3FHmBPlT5",
        "outputId": "1866e2f2-ced2-44dc-fb5b-0b2e24d0768a"
      },
      "execution_count": null,
      "outputs": [
        {
          "output_type": "execute_result",
          "data": {
            "text/plain": [
              "5"
            ]
          },
          "metadata": {},
          "execution_count": 127
        }
      ]
    },
    {
      "cell_type": "code",
      "source": [
        "#seach for character in a string\n",
        "'j' in s"
      ],
      "metadata": {
        "colab": {
          "base_uri": "https://localhost:8080/"
        },
        "id": "ZL88eHC-PvMv",
        "outputId": "747b284d-d8b2-40ab-c040-e4a46b0c1b95"
      },
      "execution_count": null,
      "outputs": [
        {
          "output_type": "execute_result",
          "data": {
            "text/plain": [
              "True"
            ]
          },
          "metadata": {},
          "execution_count": 128
        }
      ]
    },
    {
      "cell_type": "code",
      "source": [
        "#Exercise: Pi Latin!\n",
        "#If you weren't an Enlgish speaking child, then I will teach you to use pig latin, a children's secret language\n",
        "# To translate from English into Pig Latin;\n",
        "# Check the first characater.  If it's a vowel (a, e, i, o or u), add 'way' to the word\n",
        "#Otherwsie, move the first character to the end and add 'ay'\n",
        "#Examples'\n",
        "# 'computer' -> 'omputercay\n",
        "# 'elephant' -> 'elephantway'\n",
        "# 'octopus' -> 'octopusway'\n",
        "# 'papaya' -> 'apayapay'\n",
        "\n",
        "#Exercise;\n",
        "# 1. Ask the user to enter a word.  All lowercase, one word and no punctuation\n",
        "# 2. Check the first kletter to see if it is a vowel\n",
        "# 3. If it is, then print the word with 'way' added to the end\n",
        "# 4. Otherwise, print all but the first letter, followed by the first letter and add 'ay'\n",
        "\n",
        "word = input('Enter a word, all lowercase: ')\n",
        "if word[0] in 'aeiou':\n",
        "  print(word + 'way')\n",
        "else:\n",
        "  print(word[1:] + word[0] + 'ay')\n"
      ],
      "metadata": {
        "colab": {
          "base_uri": "https://localhost:8080/"
        },
        "id": "Xv-Iaa5dP1lL",
        "outputId": "f04bed38-4d45-4f15-9394-b4100b16d2b1"
      },
      "execution_count": null,
      "outputs": [
        {
          "output_type": "stream",
          "name": "stdout",
          "text": [
            "Enter a word, all lowercase: computer\n",
            "omputercay\n"
          ]
        }
      ]
    },
    {
      "cell_type": "code",
      "source": [
        "x = input('Enter a number: ')\n",
        "if '.' in x:\n",
        "  print('The number you entered is a float')\n",
        "  number = float(x)\n",
        "else:\n",
        "  number = int(x)\n",
        "  print('The number you entered is an integer')\n",
        "\n",
        "print(f'{number} is a {type(number)}, and {number} * 3 = {number * 3}')"
      ],
      "metadata": {
        "colab": {
          "base_uri": "https://localhost:8080/"
        },
        "id": "d9ksTOcbSkQY",
        "outputId": "f0e3e132-dcef-422f-a547-c29213198cd1"
      },
      "execution_count": null,
      "outputs": [
        {
          "output_type": "stream",
          "name": "stdout",
          "text": [
            "Enter a number: 7.89\n",
            "The number you entered is a float\n",
            "7.89 is a <class 'float'>, and 7.89 * 3 = 23.669999999999998\n"
          ]
        }
      ]
    },
    {
      "cell_type": "code",
      "source": [
        "#METHODS\n",
        "len('abcd')"
      ],
      "metadata": {
        "colab": {
          "base_uri": "https://localhost:8080/"
        },
        "id": "iKehH9dhTZre",
        "outputId": "fc1f6aec-fcce-4da0-f2f9-4c44479e75ea"
      },
      "execution_count": null,
      "outputs": [
        {
          "output_type": "execute_result",
          "data": {
            "text/plain": [
              "4"
            ]
          },
          "metadata": {},
          "execution_count": 131
        }
      ]
    },
    {
      "cell_type": "code",
      "source": [
        "s = 'aBcD eFgH'\n",
        "\n",
        "s.lower()"
      ],
      "metadata": {
        "colab": {
          "base_uri": "https://localhost:8080/",
          "height": 36
        },
        "id": "aS6ZxJrOTn_k",
        "outputId": "b4a2205b-0536-49bf-80df-2a67eb6f86cd"
      },
      "execution_count": null,
      "outputs": [
        {
          "output_type": "execute_result",
          "data": {
            "text/plain": [
              "'abcd efgh'"
            ],
            "application/vnd.google.colaboratory.intrinsic+json": {
              "type": "string"
            }
          },
          "metadata": {},
          "execution_count": 133
        }
      ]
    },
    {
      "cell_type": "code",
      "source": [
        "s.upper()"
      ],
      "metadata": {
        "colab": {
          "base_uri": "https://localhost:8080/",
          "height": 36
        },
        "id": "4bcMxU__T357",
        "outputId": "dfdec85e-da54-40a1-b465-52ac65c65e65"
      },
      "execution_count": null,
      "outputs": [
        {
          "output_type": "execute_result",
          "data": {
            "text/plain": [
              "'ABCD EFGH'"
            ],
            "application/vnd.google.colaboratory.intrinsic+json": {
              "type": "string"
            }
          },
          "metadata": {},
          "execution_count": 134
        }
      ]
    },
    {
      "cell_type": "code",
      "source": [
        "s.title()"
      ],
      "metadata": {
        "colab": {
          "base_uri": "https://localhost:8080/",
          "height": 36
        },
        "id": "l31pPj9HT6UD",
        "outputId": "cac91d3a-1edc-4888-89a1-53b77c770ac1"
      },
      "execution_count": null,
      "outputs": [
        {
          "output_type": "execute_result",
          "data": {
            "text/plain": [
              "'Abcd Efgh'"
            ],
            "application/vnd.google.colaboratory.intrinsic+json": {
              "type": "string"
            }
          },
          "metadata": {},
          "execution_count": 135
        }
      ]
    },
    {
      "cell_type": "code",
      "source": [
        "s.swapcase()"
      ],
      "metadata": {
        "colab": {
          "base_uri": "https://localhost:8080/",
          "height": 36
        },
        "id": "NhpTWDOOT9IA",
        "outputId": "9dbf3023-1019-4cd9-8ec2-37f37b2af29f"
      },
      "execution_count": null,
      "outputs": [
        {
          "output_type": "execute_result",
          "data": {
            "text/plain": [
              "'AbCd EfGh'"
            ],
            "application/vnd.google.colaboratory.intrinsic+json": {
              "type": "string"
            }
          },
          "metadata": {},
          "execution_count": 136
        }
      ]
    },
    {
      "cell_type": "code",
      "source": [
        "name = input('Enter your name: ')\n",
        "print(f'Hello, {name}!') #example where we add many white spaces before the name"
      ],
      "metadata": {
        "colab": {
          "base_uri": "https://localhost:8080/"
        },
        "id": "vcheJaGnUBY-",
        "outputId": "be463816-903d-4782-e4e9-0930e33fa742"
      },
      "execution_count": null,
      "outputs": [
        {
          "output_type": "stream",
          "name": "stdout",
          "text": [
            "Enter your name:                                  Matt\n",
            "Hello,                                  Matt!\n"
          ]
        }
      ]
    },
    {
      "cell_type": "code",
      "source": [
        "name.strip()"
      ],
      "metadata": {
        "colab": {
          "base_uri": "https://localhost:8080/",
          "height": 36
        },
        "id": "o-LO0XogUZ2e",
        "outputId": "962246ca-ffa0-41f4-9063-2ebb37994fd6"
      },
      "execution_count": null,
      "outputs": [
        {
          "output_type": "execute_result",
          "data": {
            "text/plain": [
              "'Matt'"
            ],
            "application/vnd.google.colaboratory.intrinsic+json": {
              "type": "string"
            }
          },
          "metadata": {},
          "execution_count": 139
        }
      ]
    },
    {
      "cell_type": "code",
      "source": [
        "name = input('Enter your name: ')\n",
        "name = name.strip()\n",
        "\n",
        "print(f'Hello, {name}!')"
      ],
      "metadata": {
        "colab": {
          "base_uri": "https://localhost:8080/"
        },
        "id": "_OvGUZ-_Ueve",
        "outputId": "a5b0c9cc-1077-414a-f318-5a6505f2ec29"
      },
      "execution_count": null,
      "outputs": [
        {
          "output_type": "stream",
          "name": "stdout",
          "text": [
            "Enter your name:                       Matt\n",
            "Hello, Matt!\n"
          ]
        }
      ]
    },
    {
      "cell_type": "code",
      "source": [
        "name = input('Enter your name: ').strip()\n",
        "print(f'Hello, {name}!')"
      ],
      "metadata": {
        "colab": {
          "base_uri": "https://localhost:8080/"
        },
        "id": "7oCUc5LWUppH",
        "outputId": "888cfbf1-6f45-41dc-8e75-c3e078de2b51"
      },
      "execution_count": null,
      "outputs": [
        {
          "output_type": "stream",
          "name": "stdout",
          "text": [
            "Enter your name:                              Matt\n",
            "Hello, Matt!\n"
          ]
        }
      ]
    },
    {
      "cell_type": "code",
      "source": [
        "# to get a list of methods, you can\n",
        "\n",
        "# (1) say dir(THING)\n",
        "\n",
        "dir(name)"
      ],
      "metadata": {
        "colab": {
          "base_uri": "https://localhost:8080/"
        },
        "id": "p6Q4vUObU-ab",
        "outputId": "c8f432aa-3d3c-46f0-ad77-4d26cb326148"
      },
      "execution_count": null,
      "outputs": [
        {
          "output_type": "execute_result",
          "data": {
            "text/plain": [
              "['__add__',\n",
              " '__class__',\n",
              " '__contains__',\n",
              " '__delattr__',\n",
              " '__dir__',\n",
              " '__doc__',\n",
              " '__eq__',\n",
              " '__format__',\n",
              " '__ge__',\n",
              " '__getattribute__',\n",
              " '__getitem__',\n",
              " '__getnewargs__',\n",
              " '__getstate__',\n",
              " '__gt__',\n",
              " '__hash__',\n",
              " '__init__',\n",
              " '__init_subclass__',\n",
              " '__iter__',\n",
              " '__le__',\n",
              " '__len__',\n",
              " '__lt__',\n",
              " '__mod__',\n",
              " '__mul__',\n",
              " '__ne__',\n",
              " '__new__',\n",
              " '__reduce__',\n",
              " '__reduce_ex__',\n",
              " '__repr__',\n",
              " '__rmod__',\n",
              " '__rmul__',\n",
              " '__setattr__',\n",
              " '__sizeof__',\n",
              " '__str__',\n",
              " '__subclasshook__',\n",
              " 'capitalize',\n",
              " 'casefold',\n",
              " 'center',\n",
              " 'count',\n",
              " 'encode',\n",
              " 'endswith',\n",
              " 'expandtabs',\n",
              " 'find',\n",
              " 'format',\n",
              " 'format_map',\n",
              " 'index',\n",
              " 'isalnum',\n",
              " 'isalpha',\n",
              " 'isascii',\n",
              " 'isdecimal',\n",
              " 'isdigit',\n",
              " 'isidentifier',\n",
              " 'islower',\n",
              " 'isnumeric',\n",
              " 'isprintable',\n",
              " 'isspace',\n",
              " 'istitle',\n",
              " 'isupper',\n",
              " 'join',\n",
              " 'ljust',\n",
              " 'lower',\n",
              " 'lstrip',\n",
              " 'maketrans',\n",
              " 'partition',\n",
              " 'removeprefix',\n",
              " 'removesuffix',\n",
              " 'replace',\n",
              " 'rfind',\n",
              " 'rindex',\n",
              " 'rjust',\n",
              " 'rpartition',\n",
              " 'rsplit',\n",
              " 'rstrip',\n",
              " 'split',\n",
              " 'splitlines',\n",
              " 'startswith',\n",
              " 'strip',\n",
              " 'swapcase',\n",
              " 'title',\n",
              " 'translate',\n",
              " 'upper',\n",
              " 'zfill']"
            ]
          },
          "metadata": {},
          "execution_count": 143
        }
      ]
    },
    {
      "cell_type": "code",
      "source": [
        "# (2) better, in Jupyter, is to type a . and then TAB after it... you'll get a menu of all completions\n",
        "\n",
        "name = '                 MaTtHeW        '\n",
        "name.strip().capitalize() # mtheod chaining"
      ],
      "metadata": {
        "colab": {
          "base_uri": "https://localhost:8080/",
          "height": 36
        },
        "id": "DwUdDvTJVADj",
        "outputId": "7b43bf35-1cc0-4b05-a321-6fc26d8fbeb6"
      },
      "execution_count": null,
      "outputs": [
        {
          "output_type": "execute_result",
          "data": {
            "text/plain": [
              "'Matthew'"
            ],
            "application/vnd.google.colaboratory.intrinsic+json": {
              "type": "string"
            }
          },
          "metadata": {},
          "execution_count": 146
        }
      ]
    },
    {
      "cell_type": "code",
      "source": [
        "number = 42\n",
        "\n",
        "user_guess = input(\"Guess a number: \").strip()\n",
        "\n",
        "if user_guess.isdigit(): # checks if the string includes digits 0-9\n",
        "  user_guess = int(user_guess) # converts to a new integer\n",
        "  if user_guess < number:\n",
        "      print(\"Too low!\")\n",
        "  elif user_guess > number:\n",
        "      print(\"Too high!\")\n",
        "  else:\n",
        "      print(\"You got it!\")\n",
        "else:\n",
        "  print(f'{user_guess} is not numeric!')"
      ],
      "metadata": {
        "colab": {
          "base_uri": "https://localhost:8080/"
        },
        "id": "3eSpTrhPVn91",
        "outputId": "f61f286b-ab5f-4c5c-9cf3-ab77bf7b4942"
      },
      "execution_count": null,
      "outputs": [
        {
          "output_type": "stream",
          "name": "stdout",
          "text": [
            "Guess a number: 42\n",
            "You got it!\n"
          ]
        }
      ]
    },
    {
      "cell_type": "code",
      "source": [
        "s = 'abcde'\n",
        "s += 'fghij'\n",
        "\n",
        "s"
      ],
      "metadata": {
        "colab": {
          "base_uri": "https://localhost:8080/",
          "height": 36
        },
        "id": "EZEyni8sW9Qa",
        "outputId": "b4331e4b-3064-4b05-bf3d-82e42972e96e"
      },
      "execution_count": null,
      "outputs": [
        {
          "output_type": "execute_result",
          "data": {
            "text/plain": [
              "'abcdefghij'"
            ],
            "application/vnd.google.colaboratory.intrinsic+json": {
              "type": "string"
            }
          },
          "metadata": {},
          "execution_count": 151
        }
      ]
    },
    {
      "cell_type": "code",
      "source": [
        "#How to practice?\n",
        "# 1. Redo these exercises (and my examples)\n",
        "# 2. Try variations --  see how far you get\n",
        "# 3. Use an AI chatbot to interview you about working code. Don't have it write the code!!!\n",
        "# 3(cont.) Rather, give it the (working) code from me or from you, and ask it to interview you, asking questions about the code.\n",
        "# 3(c0nt.) You then answer its questions, and it'll tell you if you're right or wrong and give an explanation. Do tell it not to write code, and do tell it that you're in the first day of a 5-day intro Python class for non-programmers\n",
        "\n",
        "# isdigit vs. isdecimal vs. isnumeric\n",
        "\n",
        "# isdigit checks if it contains 0-9\n",
        "# isdecimal checks if it contains 0-9, including superscript/subscript\n",
        "# isnumeric is OK with numeric characters from all languages and scripts!"
      ],
      "metadata": {
        "id": "v8pxeOBUXc6D"
      },
      "execution_count": null,
      "outputs": []
    }
  ]
}